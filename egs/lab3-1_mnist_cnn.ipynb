{
 "cells": [
  {
   "cell_type": "markdown",
   "metadata": {},
   "source": [
    "# Convolutional Neural Networks (CNNs)\n",
    "\n",
    "**Note:** 이 `notebook`을 실행하기 이전에 다음의 내용을 설명하고 진행하겠습니다. \n",
    " 1. Convolution layer\n",
    " 2. Filter\n",
    " 3. Stride\n",
    " 4. Padding\n",
    " 5. Max-pooling\n",
    " 6. mnist 데이터"
   ]
  },
  {
   "cell_type": "markdown",
   "metadata": {},
   "source": [
    "**Note:** 아래 스크립트는 [이 곳](https://github.com/fchollet/keras/blob/master/examples/mnist_cnn.py)의 내용을 참고하였습니다. \n",
    "\n",
    "아래의 스크립트는 `mnist` 데이터를 **CNN** 모델로 분류하는 스크립트입니다. 12 epoch 이후에 99.25%의 성능을 보였습니다. "
   ]
  },
  {
   "cell_type": "markdown",
   "metadata": {},
   "source": [
    "## MNIST 데이터\n",
    "\n",
    "MNIST 데이터는 손으로 쓰여진 숫자들의 이미지로 구성되어 있습니다. 데이터를 분류하는 목적은, 손으로 쓰여진 우편번호를 컴퓨터로 인식하기 위함이었습니다. "
   ]
  },
  {
   "cell_type": "markdown",
   "metadata": {},
   "source": [
    "## Import modules\n",
    "\n",
    "필요한 모듈들을 불러오겠습니다. "
   ]
  },
  {
   "cell_type": "code",
   "execution_count": 2,
   "metadata": {},
   "outputs": [
    {
     "name": "stderr",
     "output_type": "stream",
     "text": [
      "/usr/local/lib/python3.5/dist-packages/h5py/__init__.py:36: FutureWarning: Conversion of the second argument of issubdtype from `float` to `np.floating` is deprecated. In future, it will be treated as `np.float64 == np.dtype(float).type`.\n",
      "  from ._conv import register_converters as _register_converters\n",
      "Using TensorFlow backend.\n"
     ]
    }
   ],
   "source": [
    "from __future__ import print_function\n",
    "import numpy as np\n",
    "\n",
    "from keras.datasets import mnist\n",
    "from keras.models import Sequential\n",
    "from keras.layers import Dense, Dropout, Activation, Flatten\n",
    "from keras.layers import Conv2D, MaxPooling2D\n",
    "from keras.utils import np_utils\n",
    "from keras import backend as K"
   ]
  },
  {
   "cell_type": "markdown",
   "metadata": {},
   "source": [
    "## Set parameters\n",
    "\n",
    "필요한 `hyperparameter`를 설정하도록 하겠습니다. **np.random.seed()** 값을 미리 지정함으로써 나중에도 같은 결과를 얻을 수 있습니다. \n",
    "\n",
    " - batch_size: 한 번에 훑어볼 데이터의 수\n",
    " - nb_classes: 분류할 클래스의 수\n",
    " - nb_epoch: 전체 데이터를 몇 번 반복할지\n",
    " "
   ]
  },
  {
   "cell_type": "code",
   "execution_count": 3,
   "metadata": {},
   "outputs": [],
   "source": [
    "np.random.seed(1337)  # for reproducibility\n",
    "\n",
    "batch_size = 128\n",
    "nb_classes = 10\n",
    "nb_epoch = 12\n",
    "\n",
    "# input image dimensions\n",
    "img_rows, img_cols = 28, 28\n",
    "# number of convolutional filters to use\n",
    "nb_filters = 32\n",
    "# size of pooling area for max pooling\n",
    "pool_size = (2, 2)\n",
    "# convolution kernel size\n",
    "kernel_size = (3, 3)"
   ]
  },
  {
   "cell_type": "markdown",
   "metadata": {},
   "source": [
    "## Import mnist data, and create training/test data\n",
    "\n",
    "MNIST 데이터를 불러온 이후, `training`과 `test` 데이터로 분류하겠습니다. \n",
    "\n",
    "전체 값을 **255**로 나눠주는 이유는, 28 * 28의 이미지 각각의 구역이 `0-255`의 값으로 구성되어있기 때문입니다. 전체 값을 **255**로 나눠줄 경우, 모든 값을 `0-1` 사이의 값으로 만들 수 있습니다. "
   ]
  },
  {
   "cell_type": "code",
   "execution_count": 4,
   "metadata": {},
   "outputs": [
    {
     "name": "stdout",
     "output_type": "stream",
     "text": [
      "Downloading data from https://s3.amazonaws.com/img-datasets/mnist.npz\n",
      "11493376/11490434 [==============================] - 58s 5us/step\n",
      "X_train shape: (60000, 28, 28, 1)\n",
      "60000 train samples\n",
      "10000 test samples\n"
     ]
    }
   ],
   "source": [
    "(X_train, y_train), (X_test, y_test) = mnist.load_data()\n",
    "\n",
    "X_train = X_train.reshape(X_train.shape[0], img_rows, img_cols, 1)\n",
    "X_test = X_test.reshape(X_test.shape[0], img_rows, img_cols, 1)\n",
    "input_shape = (img_rows, img_cols, 1)\n",
    "\n",
    "X_train = X_train.astype('float32')\n",
    "X_test = X_test.astype('float32')\n",
    "X_train /= 255\n",
    "X_test /= 255\n",
    "print('X_train shape:', X_train.shape)\n",
    "print(X_train.shape[0], 'train samples')\n",
    "print(X_test.shape[0], 'test samples')"
   ]
  },
  {
   "cell_type": "markdown",
   "metadata": {},
   "source": [
    "## One-hot encoding\n",
    "\n",
    "**`one-hot encoding`** 은 각 클래스를 분류할 때 주로 사용되는 레이블링 방법입니다. 분류할 클래스의 갯수만큼의 `<list>`를 생성한 이후, 해당하는 클래스의 위치에는 **1**을, 나며지 경우에는 **0**을 할당합니다. \n",
    "\n",
    "`keras`에 있는 `np_utils` 기능을 활용하면 전체 결과값을 **`one-hot encoding`** 으로 쉽게 변환할 수 있습니다. "
   ]
  },
  {
   "cell_type": "code",
   "execution_count": 5,
   "metadata": {},
   "outputs": [
    {
     "name": "stdout",
     "output_type": "stream",
     "text": [
      "5 \t [0. 0. 0. 0. 0. 1. 0. 0. 0. 0.]\n",
      "0 \t [1. 0. 0. 0. 0. 0. 0. 0. 0. 0.]\n",
      "4 \t [0. 0. 0. 0. 1. 0. 0. 0. 0. 0.]\n",
      "1 \t [0. 1. 0. 0. 0. 0. 0. 0. 0. 0.]\n",
      "9 \t [0. 0. 0. 0. 0. 0. 0. 0. 0. 1.]\n",
      "2 \t [0. 0. 1. 0. 0. 0. 0. 0. 0. 0.]\n",
      "1 \t [0. 1. 0. 0. 0. 0. 0. 0. 0. 0.]\n",
      "3 \t [0. 0. 0. 1. 0. 0. 0. 0. 0. 0.]\n",
      "1 \t [0. 1. 0. 0. 0. 0. 0. 0. 0. 0.]\n",
      "4 \t [0. 0. 0. 0. 1. 0. 0. 0. 0. 0.]\n"
     ]
    }
   ],
   "source": [
    "# convert class vectors to binary class matrices\n",
    "Y_train = np_utils.to_categorical(y_train, nb_classes)\n",
    "Y_test = np_utils.to_categorical(y_test, nb_classes)\n",
    "\n",
    "for i in range(0, 10):\n",
    "    print(y_train[i], \"\\t\", Y_train[i])"
   ]
  },
  {
   "cell_type": "markdown",
   "metadata": {},
   "source": [
    "## Build a model\n",
    "\n",
    "전체 모델을 구축해보도록 하겠습니다. `CNN` 모델에서 각각의 레이어에서 어떠한 일이 일어나는지는 앞서 설명되었을 것입니다. \n",
    "\n",
    "이 모델은 두 개의 `convolutional layer`가 존재합니다. 두 개의 레이어를 거친 이후, `max-pooling`을 통해 전체 사이즈를 축소합니다. 그 이후 두 개의 `Fully-connected layer`를 통해 각각의 클래스에 대한 점수를 얻게 됩니다. 마지막으로 각각의 점수를 `softmax` 활성화 함수를 이용하여 확률로 정규화하며, 확률이 가장 높은 숫자를 예측값으로 선택합니다. \n",
    "\n",
    "\n",
    "이번에는 `이진 분류 (binary classification)`이 아니기 때문에, `categorical_crossentropy` 값을 이용하여서 전체 `weight` 및 `bias` 값을 수정하고, `adam` optimizer를 이용하여 값을 최적화하겠습니다. 결과값은 `accuracy`로 확인하도록 하겠습니다. "
   ]
  },
  {
   "cell_type": "code",
   "execution_count": 6,
   "metadata": {},
   "outputs": [],
   "source": [
    "model = Sequential()\n",
    "\n",
    "model.add(Conv2D(nb_filters, kernel_size, padding='valid', input_shape=input_shape))\n",
    "model.add(Activation('relu'))\n",
    "model.add(Conv2D(nb_filters, kernel_size))\n",
    "model.add(Activation('relu'))\n",
    "model.add(MaxPooling2D(pool_size=pool_size))\n",
    "model.add(Dropout(0.25))\n",
    "\n",
    "\n",
    "## Flatten the output of convolution layer, and send the output to fully-connected layer. \n",
    "\n",
    "model.add(Flatten())\n",
    "model.add(Dense(128))\n",
    "model.add(Activation('relu'))\n",
    "model.add(Dropout(0.5))\n",
    "model.add(Dense(nb_classes))\n",
    "model.add(Activation('softmax'))\n",
    "\n",
    "model.compile(loss='categorical_crossentropy',\n",
    "              optimizer='adam',\n",
    "metrics=['accuracy'])"
   ]
  },
  {
   "cell_type": "markdown",
   "metadata": {},
   "source": [
    "## Train the model\n",
    "\n",
    "모델을 `training` 데이터를 이용하여 학습시키겠습니다. `callbacks`로 **tensorboard**를 설정하여 나중에 결과를 확인할 수 있게 하였습니다. "
   ]
  },
  {
   "cell_type": "code",
   "execution_count": 7,
   "metadata": {},
   "outputs": [
    {
     "name": "stdout",
     "output_type": "stream",
     "text": [
      "Train on 60000 samples, validate on 10000 samples\n",
      "Epoch 1/12\n",
      "60000/60000 [==============================] - 102s 2ms/step - loss: 0.3007 - acc: 0.9066 - val_loss: 0.0649 - val_acc: 0.9795\n",
      "Epoch 2/12\n",
      "60000/60000 [==============================] - 105s 2ms/step - loss: 0.1031 - acc: 0.9694 - val_loss: 0.0435 - val_acc: 0.9848\n",
      "Epoch 3/12\n",
      "60000/60000 [==============================] - 105s 2ms/step - loss: 0.0762 - acc: 0.9773 - val_loss: 0.0415 - val_acc: 0.9853\n",
      "Epoch 4/12\n",
      "60000/60000 [==============================] - 105s 2ms/step - loss: 0.0653 - acc: 0.9805 - val_loss: 0.0326 - val_acc: 0.9888\n",
      "Epoch 5/12\n",
      "60000/60000 [==============================] - 107s 2ms/step - loss: 0.0566 - acc: 0.9834 - val_loss: 0.0326 - val_acc: 0.9881\n",
      "Epoch 6/12\n",
      "60000/60000 [==============================] - 107s 2ms/step - loss: 0.0521 - acc: 0.9846 - val_loss: 0.0346 - val_acc: 0.9890\n",
      "Epoch 7/12\n",
      "60000/60000 [==============================] - 110s 2ms/step - loss: 0.0483 - acc: 0.9852 - val_loss: 0.0289 - val_acc: 0.9911\n",
      "Epoch 8/12\n",
      "60000/60000 [==============================] - 107s 2ms/step - loss: 0.0456 - acc: 0.9866 - val_loss: 0.0277 - val_acc: 0.9900\n",
      "Epoch 9/12\n",
      "60000/60000 [==============================] - 108s 2ms/step - loss: 0.0425 - acc: 0.9875 - val_loss: 0.0330 - val_acc: 0.9900\n",
      "Epoch 10/12\n",
      "60000/60000 [==============================] - 106s 2ms/step - loss: 0.0417 - acc: 0.9877 - val_loss: 0.0284 - val_acc: 0.9903\n",
      "Epoch 11/12\n",
      "60000/60000 [==============================] - 105s 2ms/step - loss: 0.0384 - acc: 0.9889 - val_loss: 0.0303 - val_acc: 0.9902\n",
      "Epoch 12/12\n",
      "60000/60000 [==============================] - 106s 2ms/step - loss: 0.0374 - acc: 0.9884 - val_loss: 0.0296 - val_acc: 0.9909\n"
     ]
    },
    {
     "data": {
      "text/plain": [
       "<keras.callbacks.History at 0x7f6644cf7550>"
      ]
     },
     "execution_count": 7,
     "metadata": {},
     "output_type": "execute_result"
    }
   ],
   "source": [
    "tensorboard = TensorBoard(log_dir='./logs', histogram_freq = 0, \n",
    "                         write_graph=True, write_images=False)\n",
    "\n",
    "model.fit(X_train, Y_train, batch_size=batch_size, epochs=nb_epoch,\n",
    "verbose=1, validation_data=(X_test, Y_test), callbacks = [tensorboard])"
   ]
  },
  {
   "cell_type": "markdown",
   "metadata": {},
   "source": [
    "## Evaluate the model\n",
    "\n",
    "모델의 성능을 확인해보겠습니다. "
   ]
  },
  {
   "cell_type": "code",
   "execution_count": 8,
   "metadata": {},
   "outputs": [
    {
     "name": "stdout",
     "output_type": "stream",
     "text": [
      "Test score: 0.02962192776228476\n",
      "Test accuracy: 0.9909\n"
     ]
    }
   ],
   "source": [
    "score = model.evaluate(X_test, Y_test, verbose=0)\n",
    "print('Test score:', score[0])\n",
    "print('Test accuracy:', score[1])"
   ]
  },
  {
   "cell_type": "markdown",
   "metadata": {},
   "source": [
    "주어진 `test` 데이터의 결과가 매우 높은 정확도를 나타내는 것을 확인할 수 있습니다. `CNN` 구조를 이용하지 않고 `DNN` 구조를 이용하여서 학습하였을 경우보다 높은 정확도입니다. 관심있으신 분들은 일반적인 `Multilayer Perceptron/Deep Neural Networks`를 이용하여 MNIST 데이터 분류를 해보신 이후, 결과값을 비교해보셔도 재미있는 결과를 확인하실 수 있을 것입니다. 또한 이 `notebook`에 있는 `CNN` 구조를 변화시켜서 정확도가 높아지는지 확인해보시는 것도 재미있는 작업일 것이라고 생각합니다. "
   ]
  }
 ],
 "metadata": {
  "kernelspec": {
   "display_name": "Python 3",
   "language": "python",
   "name": "python3"
  },
  "language_info": {
   "codemirror_mode": {
    "name": "ipython",
    "version": 3
   },
   "file_extension": ".py",
   "mimetype": "text/x-python",
   "name": "python",
   "nbconvert_exporter": "python",
   "pygments_lexer": "ipython3",
   "version": "3.5.2"
  }
 },
 "nbformat": 4,
 "nbformat_minor": 2
}
