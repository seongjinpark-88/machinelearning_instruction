{
 "cells": [
  {
   "cell_type": "code",
   "execution_count": 1,
   "metadata": {},
   "outputs": [
    {
     "name": "stdout",
     "output_type": "stream",
     "text": [
      "Pierre Vinken , 61 years old , will join the board as a nonexecutive director Nov. 29 .\n",
      "Mr. Vinken is chairman of Elsevier N.V. , the Dutch publishing group .\n",
      "Rudolph Agnew , 55 years old and former chairman of Consolidated Gold Fields PLC , was named a nonexecutive director of this British industrial conglomerate .\n",
      "A form of asbestos once used to make Kent cigarette filters has caused a high percentage of cancer deaths among a group of workers exposed to it more than 30 years ago , researchers reported .\n",
      "The asbestos fiber , crocidolite , is unusually resilient once it enters the lungs , with even brief exposures to it causing symptoms that show up decades later , researchers said .\n",
      "Lorillard Inc. , the unit of New York-based Loews Corp. that makes Kent cigarettes , stopped using crocidolite in its Micronite cigarette filters in 1956 .\n",
      "Although preliminary findings were reported more than a year ago , the latest results appear in today 's New England Journal of Medicine , a forum likely to bring new attention to the problem .\n",
      "A Lorillard spokewoman said , `` This is an old story .\n",
      "We 're talking about years ago before anyone heard of asbestos having any questionable properties .\n",
      "There is no asbestos in our products now . ''\n",
      "==================================================================\n",
      "NNP NNP , CD NNS JJ , MD VB DT NN IN DT JJ NN NNP CD .\n",
      "NNP NNP VBZ NN IN NNP NNP , DT NNP VBG NN .\n",
      "NNP NNP , CD NNS JJ CC JJ NN IN NNP NNP NNP NNP , VBD VBN DT JJ NN IN DT JJ JJ NN .\n",
      "DT NN IN NN RB VBN TO VB NNP NN NNS VBZ VBN DT JJ NN IN NN NNS IN DT NN IN NNS VBN TO PRP RBR IN CD NNS IN , NNS VBD .\n",
      "DT NN NN , NN , VBZ RB JJ IN PRP VBZ DT NNS , IN RB JJ NNS TO PRP VBG NNS WDT VBP RP NNS JJ , NNS VBD .\n",
      "NNP NNP , DT NN IN JJ JJ NNP NNP WDT VBZ NNP NNS , VBD VBG NN IN PRP$ NN NN NNS IN CD .\n",
      "IN JJ NNS VBD VBN RBR IN DT NN IN , DT JJS NNS VBP IN NN POS NNP NNP NNP IN NNP , DT NN JJ TO VB JJ NN TO DT NN .\n",
      "DT NNP NN VBD , `` DT VBZ DT JJ NN .\n",
      "PRP VBP VBG IN NNS IN IN NN VBD IN NN VBG DT JJ NNS .\n",
      "EX VBZ DT NN IN PRP$ NNS RB . ''\n"
     ]
    }
   ],
   "source": [
    "%%bash\n",
    "head data/treebank/treebank_sent.txt\n",
    "echo \"==================================================================\"\n",
    "head data/treebank/treebank_pos.txt"
   ]
  },
  {
   "cell_type": "code",
   "execution_count": 2,
   "metadata": {},
   "outputs": [],
   "source": [
    "import tensorflow as tf\n",
    "\n",
    "from sklearn.model_selection import train_test_split\n",
    "\n",
    "import nltk\n",
    "import collections\n",
    "import matplotlib.pyplot as plt\n",
    "import numpy as np\n",
    "import os\n",
    "\n",
    "%matplotlib inline\n",
    "np.random.seed(87)"
   ]
  },
  {
   "cell_type": "code",
   "execution_count": 3,
   "metadata": {},
   "outputs": [],
   "source": [
    "sent_file = \"data/treebank/treebank_sent.txt\"\n",
    "pos_file = \"data/treebank/treebank_pos.txt\"\n",
    "\n",
    "embed_dim = 300  # embedding layer에서 사용할 feature의 수\n",
    "hidden_dim = 256  # GRU 마지막 결과값이 전달될 fully-connected layer의 노드 갯수\n",
    "batch_size = 64  # 한 번에 처리할 데이터의 수\n",
    "num_epoch = 2# 전체 데이터를 반복할 횟수\n",
    "learning_rate = 0.001\n",
    "max_gradient_norm = 5"
   ]
  },
  {
   "cell_type": "code",
   "execution_count": 4,
   "metadata": {},
   "outputs": [
    {
     "name": "stdout",
     "output_type": "stream",
     "text": [
      "Sentence Info\n",
      "\tNumber of words:  10947\n",
      "\tMaximum length:  249\n",
      "\tNumber of sents:  3914\n",
      "========================================\n",
      "POS Info\n",
      "\tNumber of POS:  45\n",
      "\tMaximum length:  249\n",
      "\tNumber of sents:  3914\n"
     ]
    }
   ],
   "source": [
    "def parse_sentence(filename):\n",
    "    counter = collections.Counter()\n",
    "    max_len = 0\n",
    "    num_sent = 0\n",
    "    \n",
    "    with open(filename, \"r\") as f:\n",
    "        for line in f:\n",
    "            words = line.strip().lower().split()\n",
    "\n",
    "            # get frequency\n",
    "            for word in words:\n",
    "                counter[word] += 1\n",
    "\n",
    "            # get max_len\n",
    "            if len(words) > max_len:\n",
    "                max_len = len(words)\n",
    "\n",
    "            # get num_sent\n",
    "            num_sent += 1\n",
    "\n",
    "        f.close()\n",
    "    return counter, max_len, num_sent\n",
    "\n",
    "sent_counter, sent_max_len, sent_num_sent = parse_sentence(sent_file)\n",
    "pos_counter, pos_max_len, pos_num_sent = parse_sentence(pos_file)\n",
    "\n",
    "print(\"Sentence Info\")\n",
    "print(\"\\tNumber of words: \", len(sent_counter))\n",
    "print(\"\\tMaximum length: \", sent_max_len)\n",
    "print(\"\\tNumber of sents: \", sent_num_sent)\n",
    "print(\"=\" * 40)\n",
    "print(\"POS Info\")\n",
    "print(\"\\tNumber of POS: \", len(pos_counter))\n",
    "print(\"\\tMaximum length: \", pos_max_len)\n",
    "print(\"\\tNumber of sents: \", pos_num_sent)        "
   ]
  },
  {
   "cell_type": "code",
   "execution_count": 5,
   "metadata": {},
   "outputs": [],
   "source": [
    "seq_len = 250\n",
    "num_vocab = 10947\n",
    "num_pos = 45"
   ]
  },
  {
   "cell_type": "code",
   "execution_count": 6,
   "metadata": {},
   "outputs": [
    {
     "name": "stdout",
     "output_type": "stream",
     "text": [
      "PAD UNK\n",
      "PAD\n",
      "10949 EOS\n",
      "3 nnp\n"
     ]
    }
   ],
   "source": [
    "def create_dictionary(counter_name, max_num, sentence = False):\n",
    "    # tmp_word2idx = collections.defaultdict(int)\n",
    "    if sentence:\n",
    "        tmp_word2idx = {x[0]: i + 2 for i, x in enumerate(counter_name.most_common(max_num))}\n",
    "        tmp_word2idx[\"PAD\"] = 0\n",
    "        tmp_word2idx[\"UNK\"] = 1\n",
    "        tmp_word2idx[\"EOS\"] = max_num + 2\n",
    "    else:\n",
    "        tmp_word2idx = {x[0]: i + 1 for i, x in enumerate(counter_name.most_common(max_num))}\n",
    "        tmp_word2idx[\"PAD\"] = 0\n",
    "        tmp_word2idx[\"EOS\"] = max_num + 1\n",
    "    tmp_idx2word = {v: k for k, v in tmp_word2idx.items()}\n",
    "    \n",
    "    return tmp_word2idx, tmp_idx2word\n",
    "\n",
    "sent_word2idx, sent_idx2word = create_dictionary(sent_counter, num_vocab, sentence = True)\n",
    "pos_word2idx, pos_idx2word = create_dictionary(pos_counter, num_pos)\n",
    "\n",
    "print(sent_idx2word[0], sent_idx2word[1])\n",
    "print(pos_idx2word[0])\n",
    "\n",
    "print(sent_word2idx[\"EOS\"], sent_idx2word[sent_word2idx[\"EOS\"]])\n",
    "print(pos_word2idx[\"nnp\"], pos_idx2word[pos_word2idx[\"nnp\"]])\n",
    "\n",
    "sent_num_vocab = num_vocab + 3\n",
    "pos_num_pos = num_pos + 2"
   ]
  },
  {
   "cell_type": "code",
   "execution_count": 7,
   "metadata": {},
   "outputs": [
    {
     "name": "stdout",
     "output_type": "stream",
     "text": [
      "[7634, 4064, 2, 2113, 79, 319, 2, 40, 2504, 3, 124, 23, 7, 2062, 317, 458, 2107, 4]\n",
      "[3, 3, 7, 9, 5, 6, 7, 20, 12, 4, 1, 2, 4, 6, 1, 3, 9, 8]\n",
      "104 government\n",
      "the first word of the first sentence:  vinken\n",
      "POS of that word:  nnp\n"
     ]
    }
   ],
   "source": [
    "def build_tensor(filename, num_sent, word2idx, max_len, category = False):\n",
    "    data = []\n",
    "    with open(filename, \"r\") as f:\n",
    "        sent_num = 0\n",
    "        for line in f:\n",
    "            wids = []\n",
    "            line = line.lower()\n",
    "            for word in line.strip().split():\n",
    "                try:\n",
    "                    wids.append(word2idx[word])\n",
    "                except KeyError:\n",
    "                    wids.append(word2idx[\"UNK\"])\n",
    "            #if category:\n",
    "            #    data[sent_num] = np_utils.to_categorical(wids, num_classes=len(word2idx))\n",
    "                # print(line)\n",
    "                # print(data[sent_num])\n",
    "            #else:\n",
    "            # data[sent_num] = wids\n",
    "            data.append(wids)\n",
    "            sent_num += 1\n",
    "        f.close()\n",
    "    \n",
    "    # tensor_data = sequence.pad_sequences(data, maxlen = max_len, padding = \"post\")\n",
    "    #if category:\n",
    "    #    tensor_data = np_utils.to_categorical(tensor_data, num_classes=len(word2idx))\n",
    "    return data\n",
    "\n",
    "X_data = build_tensor(sent_file, sent_num_sent, sent_word2idx, seq_len)\n",
    "y_data = build_tensor(pos_file, pos_num_sent, pos_word2idx, seq_len, category = True)\n",
    "# print(X_data.shape, y_data.shape)\n",
    "print(X_data[0])\n",
    "print(y_data[0])\n",
    "\n",
    "print(sent_word2idx[\"government\"], sent_idx2word[sent_word2idx[\"government\"]])\n",
    "\n",
    "print(\"the first word of the first sentence: \", sent_idx2word[X_data[0][1]])\n",
    "print(\"POS of that word: \", pos_idx2word[y_data[0][1]])"
   ]
  },
  {
   "cell_type": "code",
   "execution_count": 10,
   "metadata": {},
   "outputs": [],
   "source": [
    "X_train, X_test, y_train, y_test = train_test_split(X_data, y_data, test_size = 0.2, random_state = 42)"
   ]
  },
  {
   "cell_type": "code",
   "execution_count": 13,
   "metadata": {},
   "outputs": [],
   "source": [
    "def get_length(array_name):\n",
    "    seq_length = []\n",
    "    for i in array_name:\n",
    "        seq_len = np.count_nonzero(i)\n",
    "        seq_length.append(seq_len)\n",
    "    return seq_length\n",
    "train_enc_inp_length = np.array(get_length(X_train))\n",
    "train_dec_inp_length = np.array(get_length(y_train))\n",
    "\n",
    "test_enc_inp_length = np.array(get_length(X_test))\n",
    "test_dec_inp_length = np.array(get_length(y_test))"
   ]
  },
  {
   "cell_type": "code",
   "execution_count": 14,
   "metadata": {},
   "outputs": [],
   "source": [
    "def getBatch(enc_in, dec_in, dec_out, enc_len, dec_len, batch_size, n_batch, data_size, sentence_length):\n",
    "    size = min(batch_size, data_size - (n_batch * batch_size) - 1)\n",
    "    encoder_in = np.zeros([size, sentence_length])\n",
    "    decoder_in = np.zeros([size, sentence_length])\n",
    "    decoder_out = np.zeros([size, sentence_length])\n",
    "    encoder_len = []\n",
    "    decoder_len = []\n",
    "    for i in range(0, size):\n",
    "        j = (n_batch * batch_size) + i\n",
    "        encoder_in[i] = enc_in[j]\n",
    "        decoder_in[i] = dec_in[j]\n",
    "        decoder_out[i] = dec_out[j]\n",
    "        encoder_len.append(enc_len[j])\n",
    "        decoder_len.append(dec_len[j])\n",
    "    return encoder_in, decoder_in, decoder_out, encoder_len, decoder_len"
   ]
  },
  {
   "cell_type": "code",
   "execution_count": 15,
   "metadata": {},
   "outputs": [
    {
     "name": "stdout",
     "output_type": "stream",
     "text": [
      "[[7634, 4064, 2, 2113, 79, 319, 2, 40, 2504, 3, 124, 23, 7, 2062, 317, 458, 2107, 4], [27, 4064, 16, 169, 5, 7643, 3367, 2, 3, 3676, 661, 138, 4], [3009, 9717, 2, 1216, 79, 319, 9, 606, 169, 5, 4918, 1077, 883, 933, 2, 29, 488, 7, 2062, 317, 5, 45, 1101, 422, 3287, 4], [7, 629, 5, 1072, 660, 314, 6, 122, 1460, 2555, 1720, 32, 951, 7, 184, 1051, 5, 1247, 1875, 227, 7, 138, 5, 505, 4229, 6, 18, 51, 55, 203, 79, 271, 2, 801, 273, 4], [3, 1072, 7619, 2, 2381, 2, 16, 3777, 9394, 660, 18, 2855, 3, 6464, 2, 24, 115, 2043, 3376, 6, 18, 2346, 9059, 12, 830, 64, 3228, 808, 2, 801, 17, 4], [2150, 95, 2, 3, 289, 5, 34, 2374, 10066, 77, 12, 1038, 1460, 1824, 2, 1620, 709, 2381, 8, 31, 5790, 2555, 1720, 8, 3975, 4], [395, 1745, 1451, 52, 273, 51, 55, 7, 48, 271, 2, 3, 504, 514, 2399, 8, 381, 10, 34, 479, 1037, 5, 1237, 2, 7, 3838, 528, 6, 1296, 34, 1431, 6, 3, 352, 4], [7, 2150, 8167, 17, 2, 14, 45, 16, 33, 319, 1610, 4], [97, 364, 2411, 49, 79, 271, 192, 1935, 2779, 5, 1072, 970, 85, 3061, 8201, 4], [89, 16, 91, 1072, 8, 398, 309, 134, 4, 15]]\n",
      "[[7634   27 3009 ... 4112  412 4112]\n",
      " [4064 4064 9717 ...  587   52   17]\n",
      " [   2   16    2 ...   95   36   18]\n",
      " ...\n",
      " [  40    2  606 ... 1745    0    8]\n",
      " [2504    3  169 ...  670    0    3]\n",
      " [   3 3676    5 ...    6    0   81]]\n",
      "[18, 13, 26, 36, 32, 26, 35, 12, 16, 10]\n"
     ]
    }
   ],
   "source": [
    "## Original code from: https://github.com/ematvey/tensorflow-seq2seq-tutorials/blob/master/helpers.py\n",
    "def batch(inputs, max_sequence_length=None):\n",
    "    \"\"\"\n",
    "    Args:\n",
    "        inputs:\n",
    "            list of sentences (integer lists)\n",
    "        max_sequence_length:\n",
    "            integer specifying how large should `max_time` dimension be.\n",
    "            If None, maximum sequence length would be used\n",
    "    \n",
    "    Outputs:\n",
    "        inputs_time_major:\n",
    "            input sentences transformed into time-major matrix \n",
    "            (shape [max_time, batch_size]) padded with 0s\n",
    "        sequence_lengths:\n",
    "            batch-sized list of integers specifying amount of active \n",
    "            time steps in each input sequence\n",
    "    \"\"\"\n",
    "    \n",
    "    sequence_lengths = [len(seq) for seq in inputs]\n",
    "    batch_size = len(inputs)\n",
    "    \n",
    "    if max_sequence_length is None:\n",
    "        max_sequence_length = max(sequence_lengths)\n",
    "    inputs_batch_major = np.zeros(shape=[batch_size, max_sequence_length], dtype=np.int32) # == PAD\n",
    "    \n",
    "    for i, seq in enumerate(inputs):\n",
    "        for j, element in enumerate(seq):\n",
    "            inputs_batch_major[i, j] = element\n",
    "\n",
    "    # [batch_size, max_time] -> [max_time, batch_size]\n",
    "    inputs_time_major = inputs_batch_major.swapaxes(0, 1)\n",
    "\n",
    "    return inputs_time_major, sequence_lengths\n",
    "\n",
    "# print(X_data.shape)\n",
    "Xdata, xlen = batch(X_data)\n",
    "ydata, ylen = batch(y_data)\n",
    "print(X_data[:10])\n",
    "print(Xdata[:10])\n",
    "print(xlen[:10])"
   ]
  },
  {
   "cell_type": "code",
   "execution_count": 16,
   "metadata": {},
   "outputs": [],
   "source": [
    "PAD = 0\n",
    "sent_EOS = sent_num_vocab - 1\n",
    "pos_EOS = pos_num_pos - 1\n",
    "\n",
    "tf.reset_default_graph()\n",
    "sess = tf.Session()\n",
    "\n",
    "encoder_inputs = tf.placeholder(shape = (None, None), dtype = tf.int32, name = 'encoder_inputs')\n",
    "decoder_targets = tf.placeholder(shape = (None, None), dtype = tf.int32, name = 'decoder_targets')\n",
    "\n",
    "decoder_inputs = tf.placeholder(shape = (None, None), dtype = tf.int32, name = 'decoder_inputs')"
   ]
  },
  {
   "cell_type": "code",
   "execution_count": 18,
   "metadata": {},
   "outputs": [],
   "source": [
    "embeddings = tf.Variable(tf.random_uniform([sent_num_vocab, embed_dim], -1.0, 1.0), dtype = tf.float32)\n",
    "\n",
    "encoder_inputs_embedded = tf.nn.embedding_lookup(embeddings, encoder_inputs)\n",
    "decoder_inputs_embedded = tf.nn.embedding_lookup(embeddings, decoder_inputs)"
   ]
  },
  {
   "cell_type": "code",
   "execution_count": 19,
   "metadata": {},
   "outputs": [],
   "source": [
    "encoder_cell = tf.contrib.rnn.LSTMCell(hidden_dim)\n",
    "encoder_outputs, encoder_final_state = tf.nn.dynamic_rnn(encoder_cell, encoder_inputs_embedded, \n",
    "                                                        dtype = tf.float32, time_major = True)"
   ]
  },
  {
   "cell_type": "code",
   "execution_count": 20,
   "metadata": {},
   "outputs": [
    {
     "data": {
      "text/plain": [
       "LSTMStateTuple(c=<tf.Tensor 'rnn/while/Exit_3:0' shape=(?, 256) dtype=float32>, h=<tf.Tensor 'rnn/while/Exit_4:0' shape=(?, 256) dtype=float32>)"
      ]
     },
     "execution_count": 20,
     "metadata": {},
     "output_type": "execute_result"
    }
   ],
   "source": [
    "encoder_final_state"
   ]
  },
  {
   "cell_type": "code",
   "execution_count": 21,
   "metadata": {},
   "outputs": [],
   "source": [
    "decoder_cell = tf.contrib.rnn.LSTMCell(hidden_dim)\n",
    "decoder_outputs, decoder_final_state = tf.nn.dynamic_rnn(decoder_cell, decoder_inputs_embedded,\n",
    "                                                        initial_state = encoder_final_state,\n",
    "                                                        dtype = tf.float32, time_major=True, \n",
    "                                                        scope = \"plain_decoder\")"
   ]
  },
  {
   "cell_type": "code",
   "execution_count": 22,
   "metadata": {},
   "outputs": [],
   "source": [
    "decoder_logits = tf.contrib.layers.linear(decoder_outputs, pos_num_pos)\n",
    "\n",
    "decoder_prediction = tf.argmax(decoder_logits, 2)"
   ]
  },
  {
   "cell_type": "code",
   "execution_count": 23,
   "metadata": {},
   "outputs": [
    {
     "data": {
      "text/plain": [
       "<tf.Tensor 'fully_connected/BiasAdd:0' shape=(?, ?, 47) dtype=float32>"
      ]
     },
     "execution_count": 23,
     "metadata": {},
     "output_type": "execute_result"
    }
   ],
   "source": [
    "decoder_logits"
   ]
  },
  {
   "cell_type": "code",
   "execution_count": 24,
   "metadata": {},
   "outputs": [
    {
     "name": "stdout",
     "output_type": "stream",
     "text": [
      "WARNING:tensorflow:From <ipython-input-24-c3d667cb487e>:3: softmax_cross_entropy_with_logits (from tensorflow.python.ops.nn_ops) is deprecated and will be removed in a future version.\n",
      "Instructions for updating:\n",
      "\n",
      "Future major versions of TensorFlow will allow gradients to flow\n",
      "into the labels input on backprop by default.\n",
      "\n",
      "See @{tf.nn.softmax_cross_entropy_with_logits_v2}.\n",
      "\n"
     ]
    }
   ],
   "source": [
    "stepwise_cross_entropy = tf.nn.softmax_cross_entropy_with_logits(\n",
    "    labels = tf.one_hot(decoder_targets, depth = pos_num_pos, dtype = tf.float32), \n",
    "    logits = decoder_logits)\n",
    "\n",
    "loss = tf.reduce_mean(stepwise_cross_entropy)\n",
    "train_op = tf.train.AdamOptimizer().minimize(loss)"
   ]
  },
  {
   "cell_type": "code",
   "execution_count": 25,
   "metadata": {},
   "outputs": [],
   "source": [
    "sess.run(tf.global_variables_initializer())"
   ]
  },
  {
   "cell_type": "code",
   "execution_count": 26,
   "metadata": {},
   "outputs": [],
   "source": [
    "def getBatch(enc_in, dec_in, batch_size, n_batch, data_size, sentence_length):\n",
    "    size = min(batch_size, data_size - (n_batch * batch_size) - 1)\n",
    "    # encoder_in = np.zeros([size, sentence_length])\n",
    "    # decoder_in = np.zeros([size, sentence_length])\n",
    "    \n",
    "    encoder_in = []\n",
    "    decoder_in = []\n",
    "    for i in range(0, size):\n",
    "        j = (n_batch * batch_size) + i\n",
    "        # encoder_in[i] = enc_in[j]\n",
    "        # decoder_in[i] = dec_in[j]\n",
    "        encoder_in.append(enc_in[j])\n",
    "        decoder_in.append(dec_in[j])\n",
    "    encoder_inputs_, _ = batch(encoder_in)\n",
    "    decoder_targets_, _ = batch(\n",
    "        [(sequence) + [pos_EOS] for sequence in decoder_in]\n",
    "    )\n",
    "    decoder_inputs_, _ = batch(\n",
    "        [[pos_EOS] + (sequence) for sequence in decoder_in]\n",
    "    )\n",
    "    return {\n",
    "        encoder_inputs: encoder_inputs_,\n",
    "        decoder_inputs: decoder_inputs_,\n",
    "        decoder_targets: decoder_targets_,\n",
    "    }"
   ]
  },
  {
   "cell_type": "code",
   "execution_count": 27,
   "metadata": {},
   "outputs": [
    {
     "name": "stdout",
     "output_type": "stream",
     "text": [
      "learning start!\n",
      "Epoch 1\n",
      "  Epoch loss: 1.2634472846984863\n",
      "  sample 1:\n",
      "    input > \t energy : crude oil futures prices increased in moderate trading , but much of the action was in heating oil .\n",
      "    pred. > \t nnp in vbd nn in in in dt dt nns in dt nnp nns dt nn in dt dt in in EOS\n",
      "    label > \t nn : jj nn nns nns vbd in jj nn , cc jj in dt nn vbd in nn nn . EOS\n",
      "  sample 2:\n",
      "    input > \t prices rose on the news that a sizable west german refinery was damaged in a fire , tightening an already tight european market .\n",
      "    pred. > \t nnp in dt dt nn in dt nn nn nn nn in dt in dt nn in dt dt nn jj nn nn in EOS\n",
      "    label > \t nns vbd in dt nn in dt jj jj jj nn vbd vbn in dt nn , vbg dt rb jj jj nn . EOS\n",
      "  sample 3:\n",
      "    input > \t heating oil for november delivery ended at 58.64 cents a gallon , up one cent on the new york mercantile exchange .\n",
      "    pred. > \t nnp in in dt nnp , dt dt nn in nn in dt vbn nn in dt nn nnp nnp nnp nnp EOS\n",
      "    label > \t nn nn in nnp nn vbd in cd nns dt nn , rb cd nn in dt nnp nnp nnp nnp . EOS\n",
      "\n",
      "Epoch 2\n",
      "  Epoch loss: 1.0136088132858276\n",
      "  sample 1:\n",
      "    input > \t energy : crude oil futures prices increased in moderate trading , but much of the action was in heating oil .\n",
      "    pred. > \t nnp nns nnp nn nns vbd vbd dt dt nns in cc nnp nns dt nn in dt dt in . EOS\n",
      "    label > \t nn : jj nn nns nns vbd in jj nn , cc jj in dt nn vbd in nn nn . EOS\n",
      "  sample 2:\n",
      "    input > \t prices rose on the news that a sizable west german refinery was damaged in a fire , tightening an already tight european market .\n",
      "    pred. > \t nnp vbd dt dt nn in dt nn nn nn nn in dt in dt nn in dt dt nn jj nn nn . EOS\n",
      "    label > \t nns vbd in dt nn in dt jj jj jj nn vbd vbn in dt nn , vbg dt rb jj jj nn . EOS\n",
      "  sample 3:\n",
      "    input > \t heating oil for november delivery ended at 58.64 cents a gallon , up one cent on the new york mercantile exchange .\n",
      "    pred. > \t nnp nns nns dt nnp , dt dt nns in nn in dt vbd nn in dt nn nnp nnp nnp nnp EOS\n",
      "    label > \t nn nn in nnp nn vbd in cd nns dt nn , rb cd nn in dt nnp nnp nnp nnp . EOS\n",
      "\n",
      "Epoch 3\n",
      "  Epoch loss: 0.9712462425231934\n",
      "  sample 1:\n",
      "    input > \t energy : crude oil futures prices increased in moderate trading , but much of the action was in heating oil .\n",
      "    pred. > \t nnp nns nnp nn nns vbd vbd dt dt nns in cc dt nns dt nn in . dt . . EOS\n",
      "    label > \t nn : jj nn nns nns vbd in jj nn , cc jj in dt nn vbd in nn nn . EOS\n",
      "  sample 2:\n",
      "    input > \t prices rose on the news that a sizable west german refinery was damaged in a fire , tightening an already tight european market .\n",
      "    pred. > \t nnp vbd dt dt nn in dt nn nn nn nn , vbn in dt nn in dt dt nn jj nn nn in EOS\n",
      "    label > \t nns vbd in dt nn in dt jj jj jj nn vbd vbn in dt nn , vbg dt rb jj jj nn . EOS\n",
      "  sample 3:\n",
      "    input > \t heating oil for november delivery ended at 58.64 cents a gallon , up one cent on the new york mercantile exchange .\n",
      "    pred. > \t nnp nns nns nnp nnp , dt dt nns in nn in dt vbd nn in dt nn nnp nnp nnp nnp EOS\n",
      "    label > \t nn nn in nnp nn vbd in cd nns dt nn , rb cd nn in dt nnp nnp nnp nnp . EOS\n",
      "\n",
      "Epoch 4\n",
      "  Epoch loss: 0.9389216303825378\n",
      "  sample 1:\n",
      "    input > \t energy : crude oil futures prices increased in moderate trading , but much of the action was in heating oil .\n",
      "    pred. > \t nnp nns nnp nn nns vbd vbp dt dt nns in cc dt nns dt nn in . dt . . EOS\n",
      "    label > \t nn : jj nn nns nns vbd in jj nn , cc jj in dt nn vbd in nn nn . EOS\n",
      "  sample 2:\n",
      "    input > \t prices rose on the news that a sizable west german refinery was damaged in a fire , tightening an already tight european market .\n",
      "    pred. > \t nnp vbd dt dt nn in dt nn nn nn nn in vbn in dt nn in dt dt nn jj nn nn . EOS\n",
      "    label > \t nns vbd in dt nn in dt jj jj jj nn vbd vbn in dt nn , vbg dt rb jj jj nn . EOS\n",
      "  sample 3:\n",
      "    input > \t heating oil for november delivery ended at 58.64 cents a gallon , up one cent on the new york mercantile exchange .\n",
      "    pred. > \t nnp nns nns dt nnp , dt dt nns in nn in cc vbd nn in nnp nn nnp nnp . . EOS\n",
      "    label > \t nn nn in nnp nn vbd in cd nns dt nn , rb cd nn in dt nnp nnp nnp nnp . EOS\n",
      "\n",
      "Epoch 5\n",
      "  Epoch loss: 0.9125866293907166\n",
      "  sample 1:\n",
      "    input > \t energy : crude oil futures prices increased in moderate trading , but much of the action was in heating oil .\n",
      "    pred. > \t nnp nns nnp nn nns vbd , dt dt nns in cc dt nns dt nn in dt dt nns . EOS\n",
      "    label > \t nn : jj nn nns nns vbd in jj nn , cc jj in dt nn vbd in nn nn . EOS\n",
      "  sample 2:\n",
      "    input > \t prices rose on the news that a sizable west german refinery was damaged in a fire , tightening an already tight european market .\n",
      "    pred. > \t nnp vbd dt dt nn in dt nn nn nn nn in vbn in dt nn in dt dt nn jj nn nn . EOS\n",
      "    label > \t nns vbd in dt nn in dt jj jj jj nn vbd vbn in dt nn , vbg dt rb jj jj nn . EOS\n",
      "  sample 3:\n",
      "    input > \t heating oil for november delivery ended at 58.64 cents a gallon , up one cent on the new york mercantile exchange .\n",
      "    pred. > \t nnp nns nns dt nnp , dt dt nn in nn in cc in nn in dt nn nn nnp nnp . EOS\n",
      "    label > \t nn nn in nnp nn vbd in cd nns dt nn , rb cd nn in dt nnp nnp nnp nnp . EOS\n",
      "\n",
      "Epoch 6\n",
      "  Epoch loss: 0.8933727145195007\n",
      "  sample 1:\n",
      "    input > \t energy : crude oil futures prices increased in moderate trading , but much of the action was in heating oil .\n",
      "    pred. > \t nnp nns nnp nn nns vbd , dt dt nns in cc dt nns dt nn in vbn dt . . EOS\n",
      "    label > \t nn : jj nn nns nns vbd in jj nn , cc jj in dt nn vbd in nn nn . EOS\n",
      "  sample 2:\n",
      "    input > \t prices rose on the news that a sizable west german refinery was damaged in a fire , tightening an already tight european market .\n",
      "    pred. > \t nnp vbd dt dt nn in dt nn nn nn nn in vbn in dt nn in cc dt nn jj nn nn . EOS\n",
      "    label > \t nns vbd in dt nn in dt jj jj jj nn vbd vbn in dt nn , vbg dt rb jj jj nn . EOS\n",
      "  sample 3:\n",
      "    input > \t heating oil for november delivery ended at 58.64 cents a gallon , up one cent on the new york mercantile exchange .\n",
      "    pred. > \t nnp nns nns nnp nnp , dt dt nn in nn in cc in nn in dt nn nn nnp . . EOS\n",
      "    label > \t nn nn in nnp nn vbd in cd nns dt nn , rb cd nn in dt nnp nnp nnp nnp . EOS\n",
      "\n",
      "Epoch 7\n",
      "  Epoch loss: 0.8727661967277527\n",
      "  sample 1:\n",
      "    input > \t energy : crude oil futures prices increased in moderate trading , but much of the action was in heating oil .\n",
      "    pred. > \t nnp nns nnp nn nns vbd vbp dt dt nns in cc dt nns dt nn in vbn dt . . EOS\n",
      "    label > \t nn : jj nn nns nns vbd in jj nn , cc jj in dt nn vbd in nn nn . EOS\n",
      "  sample 2:\n",
      "    input > \t prices rose on the news that a sizable west german refinery was damaged in a fire , tightening an already tight european market .\n",
      "    pred. > \t nnp vbd dt dt nn in dt nn nn nn nn in vbn in dt nn in cc dt nn jj nn nn . EOS\n",
      "    label > \t nns vbd in dt nn in dt jj jj jj nn vbd vbn in dt nn , vbg dt rb jj jj nn . EOS\n",
      "  sample 3:\n",
      "    input > \t heating oil for november delivery ended at 58.64 cents a gallon , up one cent on the new york mercantile exchange .\n",
      "    pred. > \t nnp nns nns nnp nnp vbd dt dt nns in nn in cc in nn in dt nn nn nnp nnp . EOS\n",
      "    label > \t nn nn in nnp nn vbd in cd nns dt nn , rb cd nn in dt nnp nnp nnp nnp . EOS\n",
      "\n",
      "Epoch 8\n",
      "  Epoch loss: 0.8513839244842529\n",
      "  sample 1:\n",
      "    input > \t energy : crude oil futures prices increased in moderate trading , but much of the action was in heating oil .\n",
      "    pred. > \t nnp nns nnp nn nns vbd vbp dt dt nns in rb dt nns dt nn in vbn dt . . EOS\n",
      "    label > \t nn : jj nn nns nns vbd in jj nn , cc jj in dt nn vbd in nn nn . EOS\n",
      "  sample 2:\n",
      "    input > \t prices rose on the news that a sizable west german refinery was damaged in a fire , tightening an already tight european market .\n",
      "    pred. > \t dt in dt dt nn in dt nn nn nn nn in vbn in dt nn in cc dt nn jj nn nn . EOS\n",
      "    label > \t nns vbd in dt nn in dt jj jj jj nn vbd vbn in dt nn , vbg dt rb jj jj nn . EOS\n",
      "  sample 3:\n",
      "    input > \t heating oil for november delivery ended at 58.64 cents a gallon , up one cent on the new york mercantile exchange .\n",
      "    pred. > \t nnp nns nns nnp nnp vbd dt dt nns in nn in rb in nn in dt nn nnp nnp nnp . EOS\n",
      "    label > \t nn nn in nnp nn vbd in cd nns dt nn , rb cd nn in dt nnp nnp nnp nnp . EOS\n",
      "\n",
      "Epoch 9\n",
      "  Epoch loss: 0.833488941192627\n",
      "  sample 1:\n",
      "    input > \t energy : crude oil futures prices increased in moderate trading , but much of the action was in heating oil .\n",
      "    pred. > \t nnp nns nnp nn nns , , dt dt nns , rb dt nns dt nn in vbn dt nns . EOS\n",
      "    label > \t nn : jj nn nns nns vbd in jj nn , cc jj in dt nn vbd in nn nn . EOS\n",
      "  sample 2:\n",
      "    input > \t prices rose on the news that a sizable west german refinery was damaged in a fire , tightening an already tight european market .\n",
      "    pred. > \t dt in dt dt nn in dt nn nn nn nn , vbn in dt nn , dt dt nn jj nn nn . EOS\n",
      "    label > \t nns vbd in dt nn in dt jj jj jj nn vbd vbn in dt nn , vbg dt rb jj jj nn . EOS\n",
      "  sample 3:\n",
      "    input > \t heating oil for november delivery ended at 58.64 cents a gallon , up one cent on the new york mercantile exchange .\n",
      "    pred. > \t nnp nns nns nnp nnp , dt dt nn , nn , cc in nn in dt nn nnp nnp nnp . EOS\n",
      "    label > \t nn nn in nnp nn vbd in cd nns dt nn , rb cd nn in dt nnp nnp nnp nnp . EOS\n",
      "\n"
     ]
    },
    {
     "name": "stdout",
     "output_type": "stream",
     "text": [
      "Epoch 10\n",
      "  Epoch loss: 0.8178638219833374\n",
      "  sample 1:\n",
      "    input > \t energy : crude oil futures prices increased in moderate trading , but much of the action was in heating oil .\n",
      "    pred. > \t nnp nns nnp nn nns , , cd dt nns , rb dt nns dt nn in vbn dt . . EOS\n",
      "    label > \t nn : jj nn nns nns vbd in jj nn , cc jj in dt nn vbd in nn nn . EOS\n",
      "  sample 2:\n",
      "    input > \t prices rose on the news that a sizable west german refinery was damaged in a fire , tightening an already tight european market .\n",
      "    pred. > \t dt in dt dt nn in dt nn nn nn nn , vbn in dt nn in cc dt nn jj nn nn . EOS\n",
      "    label > \t nns vbd in dt nn in dt jj jj jj nn vbd vbn in dt nn , vbg dt rb jj jj nn . EOS\n",
      "  sample 3:\n",
      "    input > \t heating oil for november delivery ended at 58.64 cents a gallon , up one cent on the new york mercantile exchange .\n",
      "    pred. > \t nnp nns nns nnp nnp vbd cd $ nn in nn , cc in nn in dt nn nnp nnp nnp . EOS\n",
      "    label > \t nn nn in nnp nn vbd in cd nns dt nn , rb cd nn in dt nnp nnp nnp nnp . EOS\n",
      "\n"
     ]
    }
   ],
   "source": [
    "loss_track = []\n",
    "\n",
    "try:\n",
    "    print(\"learning start!\")\n",
    "    data_size = len(X_data)\n",
    "    n_batch = int((data_size - 1) / batch_size)\n",
    "    \n",
    "    for epoch in range(10):\n",
    "        epoch_loss = []\n",
    "        for n in range(n_batch):\n",
    "            fd = getBatch(X_data, y_data, batch_size, n, data_size, seq_len)\n",
    "            _, l = sess.run([train_op, loss], fd)\n",
    "            loss_track.append(l)\n",
    "            epoch_loss.append(l)\n",
    "            if (n == n_batch - 1):\n",
    "                print('Epoch {}'.format(epoch + 1))\n",
    "                print('  Epoch loss: {}'.format(np.mean(epoch_loss)))\n",
    "                predict_ = sess.run(decoder_prediction, fd)\n",
    "                for i, (inp, lab, pred) in enumerate(zip(fd[encoder_inputs].T, fd[decoder_targets].T, predict_.T)):\n",
    "                    print('  sample {}:'.format(i + 1))\n",
    "                    words = []\n",
    "                    for wrd in inp:\n",
    "                        if (wrd != 0):\n",
    "                            words.append(sent_idx2word[wrd])                   \n",
    "                    print('    input > \\t {}'.format(\" \".join(words)))\n",
    "\n",
    "                    poss = []\n",
    "                    for pos in pred:\n",
    "                        if (pos != 0):\n",
    "                            poss.append(pos_idx2word[pos])\n",
    "                    print('    pred. > \\t {}'.format(\" \".join(poss)))\n",
    "\n",
    "                    lab_poss = []\n",
    "                    for l in lab:\n",
    "                        if (l != 0):\n",
    "                            lab_poss.append(pos_idx2word[l])\n",
    "                    print('    label > \\t {}'.format(\" \".join(lab_poss)))\n",
    "\n",
    "                    if i >= 2:\n",
    "                        break\n",
    "                print()\n",
    "except KeyboardInterrupt:\n",
    "    print('training interrupted')"
   ]
  },
  {
   "cell_type": "code",
   "execution_count": 28,
   "metadata": {},
   "outputs": [
    {
     "data": {
      "text/plain": [
       "[<matplotlib.lines.Line2D at 0x7efdd0748320>]"
      ]
     },
     "execution_count": 28,
     "metadata": {},
     "output_type": "execute_result"
    },
    {
     "data": {
      "image/png": "[encoded data removed]",
      "text/plain": [
       "<Figure size 1440x720 with 1 Axes>"
      ]
     },
     "metadata": {},
     "output_type": "display_data"
    }
   ],
   "source": [
    "%matplotlib inline\n",
    "import matplotlib.pyplot as plt\n",
    "\n",
    "fig_size = plt.rcParams[\"figure.figsize\"]\n",
    "\n",
    "fig_size[0] = 20\n",
    "fig_size[1] = 10\n",
    "\n",
    "plt.plot(loss_track)\n"
   ]
  }
 ],
 "metadata": {
  "kernelspec": {
   "display_name": "Python 3",
   "language": "python",
   "name": "python3"
  },
  "language_info": {
   "codemirror_mode": {
    "name": "ipython",
    "version": 3
   },
   "file_extension": ".py",
   "mimetype": "text/x-python",
   "name": "python",
   "nbconvert_exporter": "python",
   "pygments_lexer": "ipython3",
   "version": "3.5.2"
  }
 },
 "nbformat": 4,
 "nbformat_minor": 2
}
