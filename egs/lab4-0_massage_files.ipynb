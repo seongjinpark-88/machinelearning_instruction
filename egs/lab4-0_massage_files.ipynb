{
 "cells": [
  {
   "cell_type": "markdown",
   "metadata": {},
   "source": [
    "# Subjectivity\n",
    "\n",
    "아래 셀을 이용하여 `plot.tok.gt9.5000` 파일과 `quote.tok.gt9.5000` 파일을 하나로 합쳐보도록 하겠습니다. `plot.tok.gt9.5000` 파일은 영화의 줄거리를 담고 있는 문장들 중에서 5000개의 문장을 가져온 **objectivity** 문장들이며, `quote.tok.gt9.5000` 파일은 영화 리뷰에서 가져온 **subjectivity** 문장 5000개입니다. 이후에 분류 문제를 해결하기 위해서 **subjectivity** 문장에는 *0* 을 태깅하고, **objectivity** 문장에는 *1* 을 태깅하였습니다. "
   ]
  },
  {
   "cell_type": "code",
   "execution_count": 7,
   "metadata": {},
   "outputs": [
    {
     "name": "stdout",
     "output_type": "stream",
     "text": [
      "smart and alert , thirteen conversations about one thing is a small gem . \n",
      "color , musical bounce and warm seas lapping on island shores . and just enough science to send you home thinking . \n",
      "it is not a mass-market entertainment but an uncompromising attempt by one artist to think about another . \n",
      "a light-hearted french film about the spiritual quest of a fashion model seeking peace of mind while in a love affair with a veterinarian who is a non-practicing jew . \n",
      "my wife is an actress has its moments in looking at the comic effects of jealousy . in the end , though , it is only mildly amusing when it could have been so much more . \n",
      "works both as an engaging drama and an incisive look at the difficulties facing native americans . \n",
      "even a hardened voyeur would require the patience of job to get through this interminable , shapeless documentary about the swinging subculture . \n",
      "when perry fists a bull at the moore farm , it's only a matter of time before he gets the upper hand in matters of the heart . \n",
      "the characters . . . are paper-thin , and their personalities undergo radical changes when it suits the script . \n",
      "the script is a tired one , with few moments of joy rising above the stale material . \n",
      "==========\n",
      "the movie begins in the past where a young boy named sam attempts to save celebi from a hunter . \n",
      "emerging from the human psyche and showing characteristics of abstract expressionism , minimalism and russian constructivism , graffiti removal has secured its place in the history of modern art while being created by artists who are unconscious of their artistic achievements . \n",
      "spurning her mother's insistence that she get on with her life , mary is thrown out of the house , rejected by joe , and expelled from school as she grows larger with child . \n",
      "amitabh can't believe the board of directors and his mind is filled with revenge and what better revenge than robbing the bank himself , ironic as it may sound . \n",
      "she , among others excentricities , talks to a small rock , gertrude , like if she was alive . \n",
      "this gives the girls a fair chance of pulling the wool over their eyes using their sexiness to poach any last vestige of common sense the dons might have had . \n",
      "styled after vh1's \" behind the music , \" this mockumentary profiles the rise and fall of an internet startup , called icevan . com . \n",
      "being blue is not his only predicament ; he also lacks the ability to outwardly express his emotions . \n",
      "the killer's clues are a perversion of biblical punishments for sins : stoning , burning , decapitation . \n",
      "david is a painter with painter's block who takes a job as a waiter to get some inspiration . \n"
     ]
    }
   ],
   "source": [
    "%%bash\n",
    "head data/subjectivity/quote.tok.gt9.5000\n",
    "echo \"==========\"\n",
    "head data/subjectivity/plot.tok.gt9.5000"
   ]
  },
  {
   "cell_type": "code",
   "execution_count": 10,
   "metadata": {},
   "outputs": [],
   "source": [
    "outfile = open(\"data/subjectivity/massaged_subjectivity.txt\", \"w\")\n",
    "\n",
    "with open(\"data/subjectivity/quote.tok.gt9.5000\", \"rb\") as f:\n",
    "    sub_data = f.readlines()\n",
    "    for line in sub_data:\n",
    "        line = line.decode(\"ascii\", \"ignore\")\n",
    "        result = \"0\\t\" + line\n",
    "        outfile.write(result)\n",
    "    f.close()\n",
    "\n",
    "with open(\"data/subjectivity/plot.tok.gt9.5000\", \"r\") as f:\n",
    "    sub_data = f.readlines()\n",
    "    for line in sub_data:\n",
    "        result = \"1\\t\" + line\n",
    "        outfile.write(result)\n",
    "    f.close()\n",
    "    \n",
    "outfile.close()"
   ]
  },
  {
   "cell_type": "markdown",
   "metadata": {},
   "source": [
    "생성된 파일을 살펴보겠습니다. 태깅이 제대로 이루어진 것을 확인할 수 있습니다. "
   ]
  },
  {
   "cell_type": "code",
   "execution_count": 12,
   "metadata": {},
   "outputs": [
    {
     "name": "stdout",
     "output_type": "stream",
     "text": [
      "0\tsmart and alert , thirteen conversations about one thing is a small gem . \n",
      "0\tcolor , musical bounce and warm seas lapping on island shores . and just enough science to send you home thinking . \n",
      "0\tit is not a mass-market entertainment but an uncompromising attempt by one artist to think about another . \n",
      "0\ta light-hearted french film about the spiritual quest of a fashion model seeking peace of mind while in a love affair with a veterinarian who is a non-practicing jew . \n",
      "0\tmy wife is an actress has its moments in looking at the comic effects of jealousy . in the end , though , it is only mildly amusing when it could have been so much more . \n",
      "0\tworks both as an engaging drama and an incisive look at the difficulties facing native americans . \n",
      "0\teven a hardened voyeur would require the patience of job to get through this interminable , shapeless documentary about the swinging subculture . \n",
      "0\twhen perry fists a bull at the moore farm , it's only a matter of time before he gets the upper hand in matters of the heart . \n",
      "0\tthe characters . . . are paper-thin , and their personalities undergo radical changes when it suits the script . \n",
      "0\tthe script is a tired one , with few moments of joy rising above the stale material . \n",
      "1\tafter another drunken night they are soon parted from all their accumulated cash . \n",
      "1\tbesides the fact that he is still disliked by professor snape ( alan rickman ) and hated by draco malfoy ( tom felton ) , harry gets off to a great start with his two best friends , ron weasly ( rupert grint ) and hermione granger ( emma watson ) , and famous writer gilderoy lockhart ( kenneth branagh ) has joined the hogwarts staff and is the new defense against the dark arts teacher . \n",
      "1\tdonde cae el sol tells a little story between a 65 years ol man and a woman who is thirty years younger that him . \n",
      "1\tby his own request , an eight year old , paul , is determined to experience a unique , painful event that normal children will never experience in their lives . \n",
      "1\tas a fire chief , quinn ( christian bales ) is responsable for warding off the beasts and keeping a community alive as they eke out a meager existence . \n",
      "1\tin the end , they discover that balance in life , similar to a well-balanced and sculpted anatomy , is the ultimate achievement . \n",
      "1\ta counterfeit 1000 tomin bank note is passed in a bazaar . \n",
      "1\tenter the beautiful and mysterious secret agent petra schmitt . \n",
      "1\tafter listening to a missionary from china speak , a christian man ( josh gaffga ) becomes very convinced by what he hears . \n",
      "1\tlooking for a short cut to fame , glass concocted sources , quotes and even entire stories , but his deception did not go unnoticed forever , and eventually , his world came crumbling down . . . \n"
     ]
    }
   ],
   "source": [
    "%%bash\n",
    "head data/subjectivity/massaged_subjectivity.txt\n",
    "tail data/subjectivity/massaged_subjectivity.txt"
   ]
  }
 ],
 "metadata": {
  "kernelspec": {
   "display_name": "Python 3",
   "language": "python",
   "name": "python3"
  },
  "language_info": {
   "codemirror_mode": {
    "name": "ipython",
    "version": 3
   },
   "file_extension": ".py",
   "mimetype": "text/x-python",
   "name": "python",
   "nbconvert_exporter": "python",
   "pygments_lexer": "ipython3",
   "version": "3.5.2"
  }
 },
 "nbformat": 4,
 "nbformat_minor": 2
}
