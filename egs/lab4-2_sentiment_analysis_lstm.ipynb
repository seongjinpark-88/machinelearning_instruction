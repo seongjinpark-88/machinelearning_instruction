{
 "cells": [
  {
   "cell_type": "markdown",
   "metadata": {},
   "source": [
    "# Sentiment analysis using LSTM (Long-Short Term Memory)\n",
    "\n",
    "이전 `notebook`에서는 `CNN` 구조를 이용하여서 문장을 분류해보았습니다. 이번에는 `RNN`의 한 종류인 `LSTM` 모델을 이용하여서 문장을 분류해보도록 하겠습니다. \n",
    "\n",
    "**Note:** 시작하기 전에 LSTM에 대해서 다시 한 번 설명하고 진행하겠습니다. \n",
    "\n",
    "**Note:** 전체 코드는 [이 코드](https://github.com/PacktPublishing/Deep-Learning-with-Keras/blob/master/Chapter06/umich_sentiment_lstm.py)를 토대로 하였으며, 필요에 따라 변경하였습니다.\n",
    "\n",
    "## Recurrent Neural Networks for Sentiment Analysis\n",
    "\n",
    "이전 `CNN`과 마찬가지로 감정 분석이나 문장 분류에서 `RNN` 구조를 사용하는 이유는 문장의 순서, 즉 **`sequential information`** 을 잘 보존할 수 있기 때문입니다. `RNN` 구조는 이전 `state`의 결과를 다음 `state`에서 사용하기 때문에, 시계열 정보를 다루기에 수월하다는 것은 이미 배웠을 것입니다. \n",
    "\n",
    "하지만 기본적인 `vanilla RNN` 구조를 이용하였을 경우, 시계열이 충분히 길 경우 곱연산의 영향으로 초기에 사용되었던 정보가 어느정도 손실되는 `vanishing gradient` 현상이 발생하였습니다. 이를 방지하기 위해서 사용된 것이 `Long-Short Term Memory`, 즉 `LSTM` 구조입니다. `vanilla RNN`과 `LSTM`은 셀 내부의 구조만 다를 뿐, 전체의 구조에는 큰 영향을 주지 않습니다. 다음 `notebook`에서 사용할 `GRU` 구조도 기본적인 `vanilla RNN`과 셀 내부 구조만 다를 뿐, 전체 구조는 같습니다. 그러므로 `RNN` 모델의 경우, 전체 셀을 `vanilla RNN`, `LSTM`, 그리고 `GRU`로 바꿔가며 실행할 수 있습니다. 하지만 소요되는 시간은 `LSTM`과 `GRU`가 조금 더 많은 연산을 필요로 하기 때문에 `vanilla RNN`에 비해 오래 걸릴 수 있습니다. "
   ]
  },
  {
   "cell_type": "markdown",
   "metadata": {},
   "source": [
    "## Data Preparation\n",
    "\n",
    "이번에는 `Kaggle`의 [UMICH SI650 감성 분류 대회](https://inclass.kaggle.com/c/si650winter11)에서 사용하였던 데이터를 이용하여 감성 분석을 해보도록 하겠습니다. 필요한 데이터는 [이 곳](https://www.kaggle.com/c/si650winter11)에서 다운받으실 수 있습니다. \n",
    "\n",
    "다운 받으신 후, 아래 셀에서 경로를 변경하여서 파일이 제대로 위치했는지 확인하실 수 있습니다. \n",
    "\n",
    "**Note:** 파일이 위치한 실제 경로로 아래 셀의 내용을 변경해주셔야 합니다. "
   ]
  },
  {
   "cell_type": "code",
   "execution_count": 2,
   "metadata": {},
   "outputs": [
    {
     "name": "stdout",
     "output_type": "stream",
     "text": [
      "testdata.txt\n",
      "training.txt\n"
     ]
    }
   ],
   "source": [
    "%%bash\n",
    "ls data/umich_si650/"
   ]
  },
  {
   "cell_type": "code",
   "execution_count": 1,
   "metadata": {},
   "outputs": [
    {
     "name": "stdout",
     "output_type": "stream",
     "text": [
      "1\tThe Da Vinci Code book is just awesome.\n",
      "1\tthis was the first clive cussler i've ever read, but even books like Relic, and Da Vinci code were more plausible than this.\n",
      "1\ti liked the Da Vinci Code a lot.\n",
      "1\ti liked the Da Vinci Code a lot.\n",
      "1\tI liked the Da Vinci Code but it ultimatly didn't seem to hold it's own.\n",
      "1\tthat's not even an exaggeration ) and at midnight we went to Wal-Mart to buy the Da Vinci Code, which is amazing of course.\n",
      "1\tI loved the Da Vinci Code, but now I want something better and different!..\n",
      "1\ti thought da vinci code was great, same with kite runner.\n",
      "1\tThe Da Vinci Code is actually a good movie...\n",
      "1\tI thought the Da Vinci Code was a pretty good book.\n"
     ]
    }
   ],
   "source": [
    "%%bash\n",
    "head data/umich_si650/training.txt"
   ]
  },
  {
   "cell_type": "markdown",
   "metadata": {},
   "source": [
    "실제 데이터는 `탭('\\t')`으로 분리되어 있는 텍스트 파일이며, 첫 열은 감성 태깅, 두 번째 열은 문장으로 구성되어 있습니다. "
   ]
  },
  {
   "cell_type": "markdown",
   "metadata": {},
   "source": [
    "## Import Module\n",
    "\n",
    "이전과 마찬가지로 필요한 모듈들을 불러오도록 하겠습니다. "
   ]
  },
  {
   "cell_type": "code",
   "execution_count": 24,
   "metadata": {},
   "outputs": [],
   "source": [
    "from keras.layers.core import Activation, Dense, Dropout, SpatialDropout1D\n",
    "\n",
    "from keras.layers.embeddings import Embedding\n",
    "\n",
    "from keras.layers.recurrent import LSTM\n",
    "\n",
    "from keras.models import Sequential\n",
    "\n",
    "from keras.preprocessing import sequence\n",
    "\n",
    "from sklearn.model_selection import train_test_split\n",
    "\n",
    "import collections\n",
    "import matplotlib.pyplot as plt\n",
    "import nltk\n",
    "import numpy as np\n",
    "import os\n",
    "\n",
    "%matplotlib inline\n",
    "np.random.seed(77)"
   ]
  },
  {
   "cell_type": "markdown",
   "metadata": {},
   "source": [
    "이번에도 `nltk tokenizer`를 사용할 것이기 때문에, 아래 명령어를 이용해서 `punkt` 패키지를 다운받아보겠습니다. "
   ]
  },
  {
   "cell_type": "code",
   "execution_count": 2,
   "metadata": {},
   "outputs": [
    {
     "name": "stdout",
     "output_type": "stream",
     "text": [
      "[nltk_data] Downloading package punkt to /usr/local/share/nltk_data...\n",
      "[nltk_data]   Unzipping tokenizers/punkt.zip.\n"
     ]
    }
   ],
   "source": [
    "%%bash\n",
    "python3 -m nltk.downloader -d /usr/local/share/nltk_data -u https://pastebin.com/raw/D3TBY4Mj punkt"
   ]
  },
  {
   "cell_type": "markdown",
   "metadata": {},
   "source": [
    "## Hyperparameters\n",
    "\n",
    "미리 설정할 수 있는 `hyperparameter`를 미리 정의하도록 하겠습니다. "
   ]
  },
  {
   "cell_type": "code",
   "execution_count": 34,
   "metadata": {},
   "outputs": [],
   "source": [
    "data_file = \"data/umich_si650/training.txt\"\n",
    "embed_dim = 300  # embedding layer에서 사용할 feature의 수.\n",
    "hidden_dim = 64  # LSTM 마지막 결과값이 전달될 fully-connected layer의 노드 갯수\n",
    "batch_size = 32  # 한 번에 몇 개의 데이터를 처리할 지 정합니다\n",
    "num_epoch = 10   # 전체 데이터를 몇 번 반복해서 학습할지 정합니다."
   ]
  },
  {
   "cell_type": "markdown",
   "metadata": {},
   "source": [
    "## Other parameters\n",
    "\n",
    "이전 `CNN`에서와 마찬가지로 다른 `parameter`를 찾아보도록 하겠습니다. `CNN`에서와 마찬가지로 다음의 정보가 필요합니다. \n",
    "\n",
    " 1. 사용된 단어의 수\n",
    " 2. 가장 긴 문장의 길이\n",
    " 3. 단어-인덱스 관계를 정의한 `<dict>`\n",
    " 4. 인덱스-단어 관계를 정의한 `<dict>`\n",
    " \n",
    "다음 셀에서 해당하는 `parameter`를 구해보도록 하겠습니다. "
   ]
  },
  {
   "cell_type": "code",
   "execution_count": 4,
   "metadata": {},
   "outputs": [
    {
     "name": "stdout",
     "output_type": "stream",
     "text": [
      "Longest sentence:  42\n",
      "Number of vocab.:  2313\n"
     ]
    }
   ],
   "source": [
    "# Read training data and generate vocabulary\n",
    "max_len = 0\n",
    "counter = collections.Counter()\n",
    "num_sent = 0\n",
    "with open(data_file, 'rb') as f:\n",
    "    for line in f:\n",
    "        line = line.decode(\"ascii\", \"ignore\").lower()\n",
    "        label, sentence = line.strip().split(\"\\t\")\n",
    "        words = nltk.word_tokenize(sentence.lower())\n",
    "        if len(words) > max_len:\n",
    "            max_len = len(words)\n",
    "        for word in words:\n",
    "            counter[word] += 1\n",
    "        num_sent += 1\n",
    "    f.close()\n",
    "\n",
    "## Get some information about our corpus\n",
    "print(\"Longest sentence: \", max_len)        # 42\n",
    "print(\"Number of vocab.: \", len(counter.keys()))   # 2313"
   ]
  },
  {
   "cell_type": "code",
   "execution_count": 5,
   "metadata": {},
   "outputs": [
    {
     "name": "stdout",
     "output_type": "stream",
     "text": [
      "2315 2315\n"
     ]
    }
   ],
   "source": [
    "# Create Look-up table\n",
    "# word index: 1 is UNK, 0 is PAD\n",
    "# We take MAX_FEATURES-1 featurs to accound for PAD\n",
    "num_vocab = len(counter) + 2\n",
    "word2idx = collections.defaultdict(int)\n",
    "\n",
    "for wid, word in enumerate(counter):\n",
    "    # print(wid, word)\n",
    "    word2idx[word] = wid + 2\n",
    "word2idx[\"PAD\"] = 0\n",
    "word2idx[\"UNK\"] = 1\n",
    "\n",
    "idx2word = {v:k for k, v in word2idx.items()}\n",
    "\n",
    "print(num_vocab, len(list(word2idx.keys())))"
   ]
  },
  {
   "cell_type": "markdown",
   "metadata": {},
   "source": [
    "위의 명령어를 통해서 가장 긴 문장은 42개의 단어로 구성되어 있으며, 전체 단어는 2,313개임을 확인할 수 있습니다. `PAD`와 `UNK`를 추가하였기 때문에, 총 단어의 수는 `2,315`개가 됩니다. 지금은 데이터에 있는 전체 단어를 사용하여 분석을 진행하기 때문에 `UNK`의 용도가 불명확할 수 있습니다. 하지만 나중에 분석하여야할 데이터에 모르는 단어가 있을 경우, `UNK`로 처리하는 것은 굉장히 유용한 방법일 것입니다. \n",
    "\n",
    "가장 긴 문장의 길이를 사용하여 모델을 구성할 경우, 문장의 모든 내용은 보존되며 가장 긴 문장보다 짧은 문장의 경우 `0`의 인덱스(`PAD`의 인덱스)를 이용하여서 남은 단어를 채우게 됩니다. 가장 긴 문장의 길이가 아니라 임의의 숫자를 설정하게 되면, 해당 숫자보다 긴 문장은 그 길이만큼 잘라서 사용하게되며, 짧은 문장은 이전과 마찬가지로 `zero-padding`을 이용하여 길이를 맞추게 됩니다. \n",
    "\n",
    "지금은 문장의 길이를 `40`으로 세팅하여 진행해보겠습니다. "
   ]
  },
  {
   "cell_type": "code",
   "execution_count": 6,
   "metadata": {},
   "outputs": [],
   "source": [
    "seq_len = 40"
   ]
  },
  {
   "cell_type": "markdown",
   "metadata": {},
   "source": [
    "## Data conversion\n",
    "\n",
    "이전 `CNN`에서와 마찬가지로 전체 문장을 `인덱스`의 나열로 변경하여 변수에 저장하고, 태깅 결과도 저장하는 과정이 필요합니다. \n",
    "\n",
    "다음의 코드를 이용해서 데이터를 변환하도록 하겠습니다. 먼저 두 개의 리스트(`X_data, y_data`)를 만든 이후, 데이터를 불러와 리스트에 필요한 값들을 저장하도록 하겠습니다. 마지막 결과를 보면 제대로 변환되어서 X_data 및 y_data에 저장되었음을 확인할 수 있습니다. "
   ]
  },
  {
   "cell_type": "code",
   "execution_count": 16,
   "metadata": {},
   "outputs": [
    {
     "name": "stdout",
     "output_type": "stream",
     "text": [
      "1.0\n",
      "1651\t1137\t1926\t2032\t1496\t841\t180\t2262\t2300\t\n",
      "the\tda\tvinci\tcode\tbook\tis\tjust\tawesome\t.\t\n"
     ]
    }
   ],
   "source": [
    "X_data = np.empty((num_sent, ), dtype=list)\n",
    "y_data = np.zeros((num_sent, ))\n",
    "data_num = 0\n",
    "with open(data_file, 'rb') as f:\n",
    "    for line in f:\n",
    "        line = line.decode(\"ascii\", \"ignore\")\n",
    "        label, sentence = line.strip().split(\"\\t\")\n",
    "        words = nltk.word_tokenize(sentence.lower())\n",
    "        seqs = []\n",
    "        for word in words:\n",
    "            try:\n",
    "                seqs.append(word2idx[word])\n",
    "            except KeyError:\n",
    "                seqs.append(word2idx[\"UNK\"])\n",
    "        X_data[data_num] = seqs\n",
    "        y_data[data_num] = int(label)\n",
    "        data_num += 1\n",
    "    f.close()\n",
    "\n",
    "print(y_data[0])\n",
    "    \n",
    "for idx in X_data[0]:\n",
    "    print(idx, end = \"\\t\")\n",
    "print()\n",
    "\n",
    "for idx in X_data[0]:\n",
    "    print(idx2word[idx], end = \"\\t\")\n",
    "print()"
   ]
  },
  {
   "cell_type": "markdown",
   "metadata": {},
   "source": [
    "`X_data`에 들어있는 문장들은 아직까지 `zero-padding`이 이루어지지 않아서 전체 데이터의 길이가 동일하지 않습니다. `keras`는 이 과정을 쉽게 할 수 있는 함수를 제공합니다. 실행한 후 결과를 살펴보겠습니다. "
   ]
  },
  {
   "cell_type": "code",
   "execution_count": 18,
   "metadata": {},
   "outputs": [
    {
     "name": "stdout",
     "output_type": "stream",
     "text": [
      "[   0    0    0    0    0    0    0    0    0    0    0    0    0    0\n",
      "    0    0    0    0    0    0    0    0    0    0    0    0    0    0\n",
      "    0    0    0 1651 1137 1926 2032 1496  841  180 2262 2300]\n",
      "PAD PAD PAD PAD PAD PAD PAD PAD PAD PAD PAD PAD PAD PAD PAD PAD PAD PAD PAD PAD PAD PAD PAD PAD PAD PAD PAD PAD PAD PAD PAD the da vinci code book is just awesome . \n"
     ]
    }
   ],
   "source": [
    "# Pad the sequences (left padded with zeros)\n",
    "X_data = sequence.pad_sequences(X_data, maxlen=seq_len)\n",
    "\n",
    "print(X_data[0])\n",
    "\n",
    "for idx in X_data[0]:\n",
    "    print(idx2word[idx], end = \" \")\n",
    "print()"
   ]
  },
  {
   "cell_type": "markdown",
   "metadata": {},
   "source": [
    "데이터 준비단계의 마지막으로 `scikit-learn`에서 제공하는 함수를 이용하여 `training/test data`로 분류하도록 하겠습니다. 전체 데이터의 20%는 테스트 데이터로 사용하겠습니다. 데이터의 형태를 출력하여 동일한 모양을 가지는지 확인하겠습니다. "
   ]
  },
  {
   "cell_type": "code",
   "execution_count": 21,
   "metadata": {},
   "outputs": [
    {
     "name": "stdout",
     "output_type": "stream",
     "text": [
      "(5668, 40) (1418, 40) (5668,) (1418,)\n"
     ]
    }
   ],
   "source": [
    "X_train, X_test, y_train, y_test = train_test_split(X_data, y_data, test_size=0.2, random_state=42)\n",
    "print(X_train.shape, X_test.shape, y_train.shape, y_test.shape)"
   ]
  },
  {
   "cell_type": "markdown",
   "metadata": {},
   "source": [
    "## word2vec & embedding layer\n",
    "\n",
    "이전 `CNN`을 이용한 문장 분류에서는 `Google word2vec` 모델을 이용하여서 분류를 진행하였습니다. 이번에는 미리 정해진 `word2vec` 없이 임의의 embedding layer를 이용하여서 분류를 실시해보겠습니다. 이 경우, embedding layer는 word2vec으로 생성된 embedding layer와 형태는 같지만 그 값들이 사전에 학습된 모델에서 가져온 값이 아니라 임의의 값들이 배정되게 됩니다. 그 이후 학습 과정에서 embedding layer의 값들이 `update`되게 되고, 학습이 끝난 이후 그 layer를 이용하여서 분류를 진행하게 됩니다. "
   ]
  },
  {
   "cell_type": "markdown",
   "metadata": {},
   "source": [
    "## Build a model\n",
    "\n",
    "실제 모델의 구조를 작성해보겠습니다. 입력값은 **문장을 인덱스로 변환한 값** (*None x seq_len* 의 형태)이며, 그 값은 **embedding layer**를 통과하여서 한 차원이 더해지게 됩니다(*None x seq_len x embed_dim* 의 형태). 그 값들은 차례로 **LSTM** 셀을 통과하게 됩니다. 마지막 **LSTM**에서 출력된 값은 *hidden_dim*개의 node/state로 연결됩니다. *hidden_dim*개의 노드는 최종 레이어에 있는 하나의 노드로 결과값을 전달하고, 그 결과값은 0과 1 사이의 하나의 값으로 나타내기 위해 **sigmoid** 활성화 함수를 통해 변환됩니다. 최종 값에서 1은 긍정적인 리뷰를, 0은 부정적 리뷰를 의미합니다. \n",
    "\n",
    "모델을 구성해보도록 하겠습니다. "
   ]
  },
  {
   "cell_type": "code",
   "execution_count": 26,
   "metadata": {},
   "outputs": [
    {
     "name": "stdout",
     "output_type": "stream",
     "text": [
      "_________________________________________________________________\n",
      "Layer (type)                 Output Shape              Param #   \n",
      "=================================================================\n",
      "embedding_3 (Embedding)      (None, 40, 300)           694500    \n",
      "_________________________________________________________________\n",
      "spatial_dropout1d_1 (Spatial (None, 40, 300)           0         \n",
      "_________________________________________________________________\n",
      "lstm_1 (LSTM)                (None, 64)                93440     \n",
      "_________________________________________________________________\n",
      "dense_1 (Dense)              (None, 1)                 65        \n",
      "_________________________________________________________________\n",
      "activation_1 (Activation)    (None, 1)                 0         \n",
      "=================================================================\n",
      "Total params: 788,005\n",
      "Trainable params: 788,005\n",
      "Non-trainable params: 0\n",
      "_________________________________________________________________\n"
     ]
    }
   ],
   "source": [
    "model = Sequential()\n",
    "\n",
    "# Add Embedding Layer\n",
    "model.add(Embedding(num_vocab, embed_dim, input_length = seq_len))\n",
    "\n",
    "# Add Dropout\n",
    "model.add(SpatialDropout1D(0.2))\n",
    "\n",
    "# Add LSTM cells\n",
    "model.add(LSTM(hidden_dim, dropout = 0.2, recurrent_dropout = 0.2))\n",
    "\n",
    "# Add hidden layer\n",
    "model.add(Dense(1))\n",
    "\n",
    "# Actication function\n",
    "model.add(Activation(\"sigmoid\"))\n",
    "\n",
    "# Compile model, and print model summary\n",
    "model.compile(loss = \"binary_crossentropy\", optimizer = \"adam\", metrics = [\"accuracy\"])\n",
    "model.summary()"
   ]
  },
  {
   "cell_type": "markdown",
   "metadata": {},
   "source": [
    "## Training the model\n",
    "\n",
    "실제로 모델을 학습시켜 보겠습니다. 이전과 마찬가지로 `history` 변수에 결과값을 저장하여서 나중에 살펴보도록 하겠습니다. "
   ]
  },
  {
   "cell_type": "code",
   "execution_count": 27,
   "metadata": {},
   "outputs": [
    {
     "name": "stdout",
     "output_type": "stream",
     "text": [
      "Train on 5668 samples, validate on 1418 samples\n",
      "Epoch 1/10\n",
      "5668/5668 [==============================] - 15s 3ms/step - loss: 0.2061 - acc: 0.9130 - val_loss: 0.0560 - val_acc: 0.9810\n",
      "Epoch 2/10\n",
      "5668/5668 [==============================] - 14s 2ms/step - loss: 0.0241 - acc: 0.9924 - val_loss: 0.0531 - val_acc: 0.9859\n",
      "Epoch 3/10\n",
      "5668/5668 [==============================] - 14s 2ms/step - loss: 0.0083 - acc: 0.9975 - val_loss: 0.0470 - val_acc: 0.9852\n",
      "Epoch 4/10\n",
      "5668/5668 [==============================] - 14s 2ms/step - loss: 0.0044 - acc: 0.9989 - val_loss: 0.0455 - val_acc: 0.9880\n",
      "Epoch 5/10\n",
      "5668/5668 [==============================] - 14s 2ms/step - loss: 0.0018 - acc: 0.9996 - val_loss: 0.0518 - val_acc: 0.9880\n",
      "Epoch 6/10\n",
      "5668/5668 [==============================] - 14s 2ms/step - loss: 0.0013 - acc: 0.9995 - val_loss: 0.0679 - val_acc: 0.9859\n",
      "Epoch 7/10\n",
      "5668/5668 [==============================] - 14s 2ms/step - loss: 0.0019 - acc: 0.9996 - val_loss: 0.0650 - val_acc: 0.9866\n",
      "Epoch 8/10\n",
      "5668/5668 [==============================] - 14s 2ms/step - loss: 9.9783e-04 - acc: 0.9996 - val_loss: 0.0621 - val_acc: 0.9873\n",
      "Epoch 9/10\n",
      "5668/5668 [==============================] - 14s 3ms/step - loss: 4.8175e-04 - acc: 0.9998 - val_loss: 0.0611 - val_acc: 0.9873\n",
      "Epoch 10/10\n",
      "5668/5668 [==============================] - 14s 3ms/step - loss: 2.8515e-04 - acc: 1.0000 - val_loss: 0.0622 - val_acc: 0.9873\n"
     ]
    }
   ],
   "source": [
    "history = model.fit(X_train, y_train, batch_size = batch_size, epochs = num_epoch, validation_data = (X_test, y_test))"
   ]
  },
  {
   "cell_type": "markdown",
   "metadata": {},
   "source": [
    "최종 결과에서 training 데이터는 100% 확률로 긍/부정을 분류할 수 있었고, test 데이터는 약 99% 확률로 긍/부정을 분류할 수 있었다는 것을 확인할 수 있습니다. "
   ]
  },
  {
   "cell_type": "markdown",
   "metadata": {},
   "source": [
    "## Check the training process\n",
    "\n",
    "학습 과정에서 loss와 accuracy가 어떻게 변화하였는지 살펴보겠습니다. "
   ]
  },
  {
   "cell_type": "code",
   "execution_count": 28,
   "metadata": {},
   "outputs": [
    {
     "data": {
      "image/png": "[encoded data removed]",
      "text/plain": [
       "<Figure size 432x288 with 2 Axes>"
      ]
     },
     "metadata": {},
     "output_type": "display_data"
    }
   ],
   "source": [
    "plt.subplot(211)\n",
    "plt.title(\"Accuracy\")\n",
    "plt.plot(history.history[\"acc\"], color=\"g\", label=\"Train\")\n",
    "plt.plot(history.history[\"val_acc\"], color=\"b\", label=\"Validation\")\n",
    "plt.legend(loc=\"best\")\n",
    "\n",
    "plt.subplot(212)\n",
    "plt.title(\"Loss\")\n",
    "plt.plot(history.history[\"loss\"], color=\"g\", label=\"Train\")\n",
    "plt.plot(history.history[\"val_loss\"], color=\"b\", label=\"Validation\")\n",
    "plt.legend(loc=\"best\")\n",
    "\n",
    "plt.tight_layout()\n",
    "plt.show()"
   ]
  },
  {
   "cell_type": "markdown",
   "metadata": {},
   "source": [
    "## Evaluation\n",
    "\n",
    "마지막으로 실제 평가 결과를 확인하고, test 데이터의 첫 다섯 개 문장을 모델이 어떻게 분류하였는지 살펴보도록 하겠습니다. "
   ]
  },
  {
   "cell_type": "code",
   "execution_count": 33,
   "metadata": {},
   "outputs": [
    {
     "name": "stdout",
     "output_type": "stream",
     "text": [
      "1418/1418 [==============================] - 1s 549us/step\n",
      "Test score: 0.062, accuracy: 0.987\n",
      "1\t1\ti love the da vinci code ...\n",
      "1\t1\tlove luv lubb the da vinci code !\n",
      "0\t0\tharry potter dragged draco malfoy s trousers down past his hips and sucked him into his throat with vigor , making whimpering noises and panting and groaning around the blonds rock-hard , aching cock ...\n",
      "1\t1\tand , i mean , i love brokeback mountain .\n",
      "1\t1\t* i like harry potter..\n"
     ]
    }
   ],
   "source": [
    "score, acc = model.evaluate(X_test, y_test, batch_size = batch_size)\n",
    "print(\"Test score: %.3f, accuracy: %.3f\" % (score, acc))\n",
    "\n",
    "for i in range(5):\n",
    "    idx = np.random.randint(len(X_test))\n",
    "    xtest = X_test[idx].reshape(1,40)\n",
    "    ylabel = y_test[idx]\n",
    "    ypred = model.predict(xtest)[0][0]\n",
    "    sent = \" \".join([idx2word[x] for x in xtest[0].tolist() if x != 0])\n",
    "    print(\"%.0f\\t%d\\t%s\" % (ypred, ylabel, sent))"
   ]
  },
  {
   "cell_type": "markdown",
   "metadata": {},
   "source": [
    "**Note:** 나중에 `LSTM`을 이용한 문장 분류나 감성 분석을 실시할 때, 단어별로 문장에 대한 `prediction`이 어떻게 변화하는지 살펴볼 수 있는 방법도 있습니다. 시간이 있으면 간단하게 결과를 소개하도록 하겠습니다. "
   ]
  }
 ],
 "metadata": {
  "kernelspec": {
   "display_name": "Python 3",
   "language": "python",
   "name": "python3"
  },
  "language_info": {
   "codemirror_mode": {
    "name": "ipython",
    "version": 3
   },
   "file_extension": ".py",
   "mimetype": "text/x-python",
   "name": "python",
   "nbconvert_exporter": "python",
   "pygments_lexer": "ipython3",
   "version": "3.5.2"
  }
 },
 "nbformat": 4,
 "nbformat_minor": 2
}
