{
 "cells": [
  {
   "cell_type": "code",
   "execution_count": 1,
   "metadata": {},
   "outputs": [
    {
     "name": "stdout",
     "output_type": "stream",
     "text": [
      "A\t1\t1\n",
      "A\t1\t1\n",
      "A'S\t2\t1\n",
      "A.\t1\t1\n",
      "A.'S\t2\t1\n",
      "A.S\t2\t1\n",
      "A42128\t6\t6\n",
      "AA\t2\t2\n",
      "AAA\t3\t3\n",
      "AABERG\t6\t2\n"
     ]
    }
   ],
   "source": [
    "%%bash\n",
    "head data/massaged_cmudict,txt"
   ]
  },
  {
   "cell_type": "code",
   "execution_count": 24,
   "metadata": {},
   "outputs": [],
   "source": [
    "import numpy as np\n",
    "from keras import optimizers\n",
    "from keras.layers import Dense\n",
    "from keras.models import Sequential\n",
    "from keras.callbacks import TensorBoard"
   ]
  },
  {
   "cell_type": "code",
   "execution_count": 3,
   "metadata": {},
   "outputs": [],
   "source": [
    "with open(\"data/massaged_cmudict,txt\", \"r\") as f:\n",
    "    data = f.readlines()\n",
    "    f.close()"
   ]
  },
  {
   "cell_type": "code",
   "execution_count": 16,
   "metadata": {},
   "outputs": [
    {
     "name": "stdout",
     "output_type": "stream",
     "text": [
      "133779\n",
      "133779\n"
     ]
    }
   ],
   "source": [
    "X = []\n",
    "y = []\n",
    "for line in data:\n",
    "    (word, word_len, syll_len) = line.split(\"\\t\")\n",
    "    X.append(int(word_len))\n",
    "    y.append(int(syll_len))\n",
    "    \n",
    "print(len(X))\n",
    "print(len(y))"
   ]
  },
  {
   "cell_type": "code",
   "execution_count": 17,
   "metadata": {},
   "outputs": [
    {
     "name": "stdout",
     "output_type": "stream",
     "text": [
      "100000\n",
      "30000\n",
      "3779\n"
     ]
    }
   ],
   "source": [
    "X_train = X[0:100000]\n",
    "y_train = y[0:100000]\n",
    "\n",
    "print(len(X_train))\n",
    "\n",
    "X_val = X[100000:130000]\n",
    "y_val = y[100000:130000]\n",
    "\n",
    "print(len(X_val))\n",
    "\n",
    "X_test = X[130000:]\n",
    "y_test = y[130000:]\n",
    "\n",
    "print(len(X_test))"
   ]
  },
  {
   "cell_type": "code",
   "execution_count": 25,
   "metadata": {},
   "outputs": [
    {
     "name": "stdout",
     "output_type": "stream",
     "text": [
      "Train on 90000 samples, validate on 10000 samples\n",
      "Epoch 1/10\n",
      "90000/90000 [==============================] - 1s 6us/step - loss: 102.8250 - mean_squared_error: 102.8250 - val_loss: 84.1321 - val_mean_squared_error: 84.1321\n",
      "Epoch 2/10\n",
      "90000/90000 [==============================] - 0s 5us/step - loss: 55.8269 - mean_squared_error: 55.8269 - val_loss: 43.4015 - val_mean_squared_error: 43.4015\n",
      "Epoch 3/10\n",
      "90000/90000 [==============================] - 0s 5us/step - loss: 27.4514 - mean_squared_error: 27.4514 - val_loss: 20.0240 - val_mean_squared_error: 20.0240\n",
      "Epoch 4/10\n",
      "90000/90000 [==============================] - 0s 5us/step - loss: 11.9922 - mean_squared_error: 11.9922 - val_loss: 8.1293 - val_mean_squared_error: 8.1293\n",
      "Epoch 5/10\n",
      "90000/90000 [==============================] - 0s 5us/step - loss: 4.6468 - mean_squared_error: 4.6468 - val_loss: 2.9721 - val_mean_squared_error: 2.9721\n",
      "Epoch 6/10\n",
      "90000/90000 [==============================] - 0s 6us/step - loss: 1.7307 - mean_squared_error: 1.7307 - val_loss: 1.1587 - val_mean_squared_error: 1.1587\n",
      "Epoch 7/10\n",
      "90000/90000 [==============================] - 1s 6us/step - loss: 0.8080 - mean_squared_error: 0.8080 - val_loss: 0.6624 - val_mean_squared_error: 0.6624\n",
      "Epoch 8/10\n",
      "90000/90000 [==============================] - 0s 5us/step - loss: 0.5863 - mean_squared_error: 0.5863 - val_loss: 0.5602 - val_mean_squared_error: 0.5602\n",
      "Epoch 9/10\n",
      "90000/90000 [==============================] - 0s 5us/step - loss: 0.5463 - mean_squared_error: 0.5463 - val_loss: 0.5419 - val_mean_squared_error: 0.5419\n",
      "Epoch 10/10\n",
      "90000/90000 [==============================] - 0s 5us/step - loss: 0.5388 - mean_squared_error: 0.5388 - val_loss: 0.5360 - val_mean_squared_error: 0.5360\n"
     ]
    },
    {
     "data": {
      "text/plain": [
       "<keras.callbacks.History at 0x7fab8fd24b38>"
      ]
     },
     "execution_count": 25,
     "metadata": {},
     "output_type": "execute_result"
    }
   ],
   "source": [
    "model = Sequential()\n",
    "model.add(Dense(1, input_dim=1))\n",
    "model.compile(loss='mse', optimizer='adam', metrics=['mse'])\n",
    "\n",
    "tensorboard = TensorBoard(log_dir='./logs', histogram_freq = 0, \n",
    "                         write_graph=True, write_images=False)\n",
    "\n",
    "model.fit(X_train, y_train, batch_size = 256, epochs = 10, verbose = 1, validation_split=0.1, \n",
    "          shuffle = True, callbacks=[tensorboard])"
   ]
  },
  {
   "cell_type": "code",
   "execution_count": 19,
   "metadata": {},
   "outputs": [
    {
     "name": "stdout",
     "output_type": "stream",
     "text": [
      "3779/3779 [==============================] - 0s 26us/step\n",
      "[0.37607880124389004, 0.37607880124389004]\n"
     ]
    }
   ],
   "source": [
    "results = model.evaluate(X_test, y_test, verbose=1)\n",
    "print(results)"
   ]
  },
  {
   "cell_type": "code",
   "execution_count": 20,
   "metadata": {},
   "outputs": [
    {
     "name": "stdout",
     "output_type": "stream",
     "text": [
      "[[1.9297473]\n",
      " [4.238353 ]\n",
      " [4.238353 ]\n",
      " ...\n",
      " [3.08405  ]\n",
      " [3.08405  ]\n",
      " [2.3145149]]\n"
     ]
    }
   ],
   "source": [
    "predictions = model.predict(X_test)\n",
    "print(predictions)"
   ]
  },
  {
   "cell_type": "code",
   "execution_count": 23,
   "metadata": {},
   "outputs": [
    {
     "data": {
      "text/plain": [
       "<function matplotlib.pyplot.show(*args, **kw)>"
      ]
     },
     "execution_count": 23,
     "metadata": {},
     "output_type": "execute_result"
    },
    {
     "data": {
      "image/png": "[encoded data removed]",
      "text/plain": [
       "<Figure size 432x288 with 1 Axes>"
      ]
     },
     "metadata": {},
     "output_type": "display_data"
    }
   ],
   "source": [
    "import matplotlib.pyplot as plt\n",
    "\n",
    "plt.plot(y_test)\n",
    "plt.plot(predictions)\n",
    "plt.show"
   ]
  }
 ],
 "metadata": {
  "kernelspec": {
   "display_name": "Python 3",
   "language": "python",
   "name": "python3"
  },
  "language_info": {
   "codemirror_mode": {
    "name": "ipython",
    "version": 3
   },
   "file_extension": ".py",
   "mimetype": "text/x-python",
   "name": "python",
   "nbconvert_exporter": "python",
   "pygments_lexer": "ipython3",
   "version": "3.5.2"
  }
 },
 "nbformat": 4,
 "nbformat_minor": 2
}
