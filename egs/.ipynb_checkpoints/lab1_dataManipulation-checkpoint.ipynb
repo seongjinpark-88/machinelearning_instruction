{
 "cells": [
  {
   "cell_type": "code",
   "execution_count": 1,
   "metadata": {},
   "outputs": [
    {
     "name": "stdout",
     "output_type": "stream",
     "text": [
      "OR.txt\n",
      "XOR.txt\n",
      "cmudict-0.7b.txt\n",
      "rhythm.txt\n"
     ]
    }
   ],
   "source": [
    "%%bash\n",
    "ls data"
   ]
  },
  {
   "cell_type": "code",
   "execution_count": 1,
   "metadata": {},
   "outputs": [
    {
     "name": "stdout",
     "output_type": "stream",
     "text": [
      "!EXCLAMATION-POINT  EH2 K S K L AH0 M EY1 SH AH0 N P OY2 N T\n",
      "\"CLOSE-QUOTE  K L OW1 Z K W OW1 T\n",
      "\"DOUBLE-QUOTE  D AH1 B AH0 L K W OW1 T\n",
      "\"END-OF-QUOTE  EH1 N D AH0 V K W OW1 T\n",
      "\"END-QUOTE  EH1 N D K W OW1 T\n",
      "\"IN-QUOTES  IH1 N K W OW1 T S\n",
      "\"QUOTE  K W OW1 T\n",
      "\"UNQUOTE  AH1 N K W OW1 T\n",
      "#HASH-MARK  HH AE1 M AA2 R K\n",
      "#POUND-SIGN  P AW1 N D S AY2 N\n"
     ]
    }
   ],
   "source": [
    "%%bash\n",
    "head data/cmudict-0.7b.txt"
   ]
  },
  {
   "cell_type": "code",
   "execution_count": 2,
   "metadata": {},
   "outputs": [],
   "source": [
    "import re"
   ]
  },
  {
   "cell_type": "code",
   "execution_count": 3,
   "metadata": {},
   "outputs": [],
   "source": [
    "with open(\"./data/cmudict-0.7b.txt\", \"r\") as f:\n",
    "    data = f.readlines()\n",
    "    f.close()"
   ]
  },
  {
   "cell_type": "code",
   "execution_count": 4,
   "metadata": {},
   "outputs": [
    {
     "name": "stdout",
     "output_type": "stream",
     "text": [
      "ABDUCTIONS(1)  AH0 B D AH1 K SH AH0 N Z\n",
      "\n",
      "ABDUCTOR  AE0 B D AH1 K T ER0\n",
      "\n",
      "ABDUCTOR(1)  AH0 B D AH1 K T ER0\n",
      "\n",
      "ABDUCTORS  AE0 B D AH1 K T ER0 Z\n",
      "\n",
      "ABDUCTORS(1)  AH0 B D AH1 K T ER0 Z\n",
      "\n",
      "ABDUCTS  AE0 B D AH1 K T S\n",
      "\n",
      "ABDUL  AE0 B D UW1 L\n",
      "\n",
      "ABDULAZIZ  AE0 B D UW2 L AH0 Z IY1 Z\n",
      "\n",
      "ABDULLA  AA0 B D UW1 L AH0\n",
      "\n",
      "ABDULLAH  AE2 B D AH1 L AH0\n",
      "\n"
     ]
    }
   ],
   "source": [
    "for line in data[200:210]:\n",
    "    line.strip()\n",
    "    print(line)"
   ]
  },
  {
   "cell_type": "code",
   "execution_count": 17,
   "metadata": {},
   "outputs": [
    {
     "name": "stdout",
     "output_type": "stream",
     "text": [
      "ABDUCTIONS 10\n",
      "AH0 B D AH1 K SH AH0 N Z\n",
      "\n",
      "ABDUCTOR 8\n",
      "AE0 B D AH1 K T ER0\n",
      "\n",
      "ABDUCTOR 8\n",
      "AH0 B D AH1 K T ER0\n",
      "\n",
      "ABDUCTORS 9\n",
      "AE0 B D AH1 K T ER0 Z\n",
      "\n",
      "ABDUCTORS 9\n",
      "AH0 B D AH1 K T ER0 Z\n",
      "\n",
      "ABDUCTS 7\n",
      "AE0 B D AH1 K T S\n",
      "\n",
      "ABDUL 5\n",
      "AE0 B D UW1 L\n",
      "\n",
      "ABDULAZIZ 9\n",
      "AE0 B D UW2 L AH0 Z IY1 Z\n",
      "\n",
      "ABDULLA 7\n",
      "AA0 B D UW1 L AH0\n",
      "\n",
      "ABDULLAH 8\n",
      "AE2 B D AH1 L AH0\n",
      "\n"
     ]
    }
   ],
   "source": [
    "for line in data[200:210]:\n",
    "    if (line[0].isalpha()):\n",
    "        (word, pron) = line.split(\"  \")\n",
    "        word = re.sub(r\"\\([\\d]\\)\", \"\", word)\n",
    "        print(word, len(word))\n",
    "        print(pron)"
   ]
  },
  {
   "cell_type": "code",
   "execution_count": 5,
   "metadata": {},
   "outputs": [
    {
     "name": "stdout",
     "output_type": "stream",
     "text": [
      "ABDUCTIONS 10 3\n",
      "ABDUCTOR 8 3\n",
      "ABDUCTOR 8 3\n",
      "ABDUCTORS 9 3\n",
      "ABDUCTORS 9 3\n",
      "ABDUCTS 7 2\n",
      "ABDUL 5 2\n",
      "ABDULAZIZ 9 4\n",
      "ABDULLA 7 3\n",
      "ABDULLAH 8 3\n"
     ]
    }
   ],
   "source": [
    "for line in data[200:210]:\n",
    "    if (line[0].isalpha()):\n",
    "        (word, pron) = line.split(\"  \")\n",
    "        word = re.sub(r\"\\([\\d]\\)\", \"\", word)\n",
    "        \n",
    "        word_length = len(word)\n",
    "        syll_length = sum(map(str.isdigit, pron))\n",
    "        print(word, word_length, syll_length)"
   ]
  },
  {
   "cell_type": "code",
   "execution_count": 7,
   "metadata": {},
   "outputs": [],
   "source": [
    "outdata = open(\"./data/massaged_cmudict.txt\", \"w\")\n",
    "\n",
    "for line in data:\n",
    "    if (line[0].isalpha()):\n",
    "        (word, pron) = line.split(\"  \")\n",
    "        word = re.sub(r\"\\([\\d]\\)\", \"\", word)\n",
    "        \n",
    "        word_length = sum(map(str.isalpha, word)) + sum(map(str.isdigit, word))\n",
    "        syll_length = sum(map(str.isdigit, pron))\n",
    "        result = word + \"\\t\" + str(word_length) + \"\\t\" + str(syll_length) + \"\\n\"\n",
    "        outdata.write(result)\n",
    "\n",
    "outdata.close()"
   ]
  }
 ],
 "metadata": {
  "kernelspec": {
   "display_name": "Python 3",
   "language": "python",
   "name": "python3"
  },
  "language_info": {
   "codemirror_mode": {
    "name": "ipython",
    "version": 3
   },
   "file_extension": ".py",
   "mimetype": "text/x-python",
   "name": "python",
   "nbconvert_exporter": "python",
   "pygments_lexer": "ipython3",
   "version": "3.5.2"
  }
 },
 "nbformat": 4,
 "nbformat_minor": 2
}
